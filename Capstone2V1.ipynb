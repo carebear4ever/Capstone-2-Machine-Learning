{
 "cells": [
  {
   "cell_type": "code",
   "execution_count": 28,
   "metadata": {},
   "outputs": [
    {
     "name": "stdout",
     "output_type": "stream",
     "text": [
      "WARNING:tensorflow:From c:\\Users\\mrjwi\\anaconda3\\envs\\mlenv\\lib\\site-packages\\keras\\src\\losses.py:2976: The name tf.losses.sparse_softmax_cross_entropy is deprecated. Please use tf.compat.v1.losses.sparse_softmax_cross_entropy instead.\n",
      "\n"
     ]
    }
   ],
   "source": [
    "# from sklearn.neural_network import MLPRegressor\n",
    "import numpy as np\n",
    "# Initial imports\n",
    "import pandas as pd\n",
    "from pathlib import Path\n",
    "import hvplot.pandas\n",
    "import holoviews as hv\n",
    "from itertools import islice\n",
    "from sklearn.model_selection import train_test_split\n",
    "%matplotlib inline\n",
    "import matplotlib.pyplot as plt\n",
    "from imblearn.metrics import classification_report_imbalanced\n",
    "from sklearn.metrics import accuracy_score, classification_report\n",
    "from sklearn.linear_model import LogisticRegression\n",
    "from sklearn.model_selection import train_test_split\n",
    "from sklearn.preprocessing import StandardScaler\n",
    "from tensorflow.keras.models import Sequential\n",
    "from tensorflow.keras.layers import Dense"
   ]
  },
  {
   "cell_type": "markdown",
   "metadata": {},
   "source": [
    "Pull in and GMA Data"
   ]
  },
  {
   "cell_type": "code",
   "execution_count": 2,
   "metadata": {},
   "outputs": [
    {
     "data": {
      "text/html": [
       "<div>\n",
       "<style scoped>\n",
       "    .dataframe tbody tr th:only-of-type {\n",
       "        vertical-align: middle;\n",
       "    }\n",
       "\n",
       "    .dataframe tbody tr th {\n",
       "        vertical-align: top;\n",
       "    }\n",
       "\n",
       "    .dataframe thead th {\n",
       "        text-align: right;\n",
       "    }\n",
       "</style>\n",
       "<table border=\"1\" class=\"dataframe\">\n",
       "  <thead>\n",
       "    <tr style=\"text-align: right;\">\n",
       "      <th></th>\n",
       "      <th>ASP 12/2021 - 12/2022</th>\n",
       "      <th>ASP 12/2022 - 12/2023</th>\n",
       "      <th>Transactions 12/2021 - 12/2022</th>\n",
       "      <th>Transactions 12/2022 - 12/2023</th>\n",
       "      <th>Avg DOM 12/2021 - 12/2022</th>\n",
       "      <th>Avg DOM 12/2022 - 12/2023</th>\n",
       "    </tr>\n",
       "  </thead>\n",
       "  <tbody>\n",
       "    <tr>\n",
       "      <th>0</th>\n",
       "      <td>$305,022</td>\n",
       "      <td>$319,320</td>\n",
       "      <td>290</td>\n",
       "      <td>205.0</td>\n",
       "      <td>15.0</td>\n",
       "      <td>35.7</td>\n",
       "    </tr>\n",
       "    <tr>\n",
       "      <th>1</th>\n",
       "      <td>$321,283</td>\n",
       "      <td>$331,624</td>\n",
       "      <td>411</td>\n",
       "      <td>245.0</td>\n",
       "      <td>27.6</td>\n",
       "      <td>39.2</td>\n",
       "    </tr>\n",
       "    <tr>\n",
       "      <th>2</th>\n",
       "      <td>$265,879</td>\n",
       "      <td>$258,609</td>\n",
       "      <td>786</td>\n",
       "      <td>613.0</td>\n",
       "      <td>23.3</td>\n",
       "      <td>40.2</td>\n",
       "    </tr>\n",
       "    <tr>\n",
       "      <th>3</th>\n",
       "      <td>$237,692</td>\n",
       "      <td>$237,042</td>\n",
       "      <td>880</td>\n",
       "      <td>755.0</td>\n",
       "      <td>23.2</td>\n",
       "      <td>38.1</td>\n",
       "    </tr>\n",
       "    <tr>\n",
       "      <th>4</th>\n",
       "      <td>$260,950</td>\n",
       "      <td>$262,756</td>\n",
       "      <td>523</td>\n",
       "      <td>443.0</td>\n",
       "      <td>21.8</td>\n",
       "      <td>31.6</td>\n",
       "    </tr>\n",
       "  </tbody>\n",
       "</table>\n",
       "</div>"
      ],
      "text/plain": [
       "  ASP 12/2021 - 12/2022 ASP 12/2022 - 12/2023  Transactions 12/2021 - 12/2022  \\\n",
       "0             $305,022              $319,320                              290   \n",
       "1             $321,283              $331,624                              411   \n",
       "2             $265,879              $258,609                              786   \n",
       "3             $237,692              $237,042                              880   \n",
       "4             $260,950              $262,756                              523   \n",
       "\n",
       "   Transactions 12/2022 - 12/2023  Avg DOM 12/2021 - 12/2022  \\\n",
       "0                           205.0                       15.0   \n",
       "1                           245.0                       27.6   \n",
       "2                           613.0                       23.3   \n",
       "3                           755.0                       23.2   \n",
       "4                           443.0                       21.8   \n",
       "\n",
       "   Avg DOM 12/2022 - 12/2023  \n",
       "0                       35.7  \n",
       "1                       39.2  \n",
       "2                       40.2  \n",
       "3                       38.1  \n",
       "4                       31.6  "
      ]
     },
     "execution_count": 2,
     "metadata": {},
     "output_type": "execute_result"
    }
   ],
   "source": [
    "data_csv = pd.read_csv(Path(\"./GMA_data.csv\"))\n",
    "data_csv = data_csv.drop(columns=['% Change', '% Change.1', 'MOI 11/2022',\n",
    "       'MOI 11/2023', '% Change.2' , '% Change.3', 'Geo Market Area'])\n",
    "data_csv.head()\n"
   ]
  },
  {
   "cell_type": "code",
   "execution_count": 3,
   "metadata": {},
   "outputs": [
    {
     "data": {
      "text/plain": [
       "ASP 12/2021 - 12/2022              object\n",
       "ASP 12/2022 - 12/2023              object\n",
       "Transactions 12/2021 - 12/2022      int64\n",
       "Transactions 12/2022 - 12/2023    float64\n",
       "Avg DOM 12/2021 - 12/2022         float64\n",
       "Avg DOM 12/2022 - 12/2023         float64\n",
       "dtype: object"
      ]
     },
     "execution_count": 3,
     "metadata": {},
     "output_type": "execute_result"
    }
   ],
   "source": [
    "data_csv.dtypes"
   ]
  },
  {
   "cell_type": "code",
   "execution_count": 4,
   "metadata": {},
   "outputs": [
    {
     "data": {
      "text/plain": [
       "Index(['ASP 12/2021 - 12/2022', 'ASP 12/2022 - 12/2023',\n",
       "       'Transactions 12/2021 - 12/2022', 'Transactions 12/2022 - 12/2023',\n",
       "       'Avg DOM 12/2021 - 12/2022', 'Avg DOM 12/2022 - 12/2023'],\n",
       "      dtype='object')"
      ]
     },
     "execution_count": 4,
     "metadata": {},
     "output_type": "execute_result"
    }
   ],
   "source": [
    "data_csv.columns"
   ]
  },
  {
   "cell_type": "code",
   "execution_count": 5,
   "metadata": {},
   "outputs": [
    {
     "data": {
      "text/html": [
       "<div>\n",
       "<style scoped>\n",
       "    .dataframe tbody tr th:only-of-type {\n",
       "        vertical-align: middle;\n",
       "    }\n",
       "\n",
       "    .dataframe tbody tr th {\n",
       "        vertical-align: top;\n",
       "    }\n",
       "\n",
       "    .dataframe thead th {\n",
       "        text-align: right;\n",
       "    }\n",
       "</style>\n",
       "<table border=\"1\" class=\"dataframe\">\n",
       "  <thead>\n",
       "    <tr style=\"text-align: right;\">\n",
       "      <th></th>\n",
       "      <th>Listings*</th>\n",
       "      <th>Year Ago</th>\n",
       "      <th>Dollar Volume</th>\n",
       "      <th>Price</th>\n",
       "    </tr>\n",
       "  </thead>\n",
       "  <tbody>\n",
       "    <tr>\n",
       "      <th>1</th>\n",
       "      <td>7,983</td>\n",
       "      <td>-4%</td>\n",
       "      <td>$3,353,852,000</td>\n",
       "      <td>$420,124</td>\n",
       "    </tr>\n",
       "    <tr>\n",
       "      <th>2</th>\n",
       "      <td>556</td>\n",
       "      <td>-19%</td>\n",
       "      <td>$145,065,478</td>\n",
       "      <td>$260,909</td>\n",
       "    </tr>\n",
       "    <tr>\n",
       "      <th>3</th>\n",
       "      <td>65</td>\n",
       "      <td>-22%</td>\n",
       "      <td>$31,514,889</td>\n",
       "      <td>$484,844</td>\n",
       "    </tr>\n",
       "    <tr>\n",
       "      <th>4</th>\n",
       "      <td>244</td>\n",
       "      <td>-10%</td>\n",
       "      <td>$142,090,041</td>\n",
       "      <td>$582,336</td>\n",
       "    </tr>\n",
       "    <tr>\n",
       "      <th>5</th>\n",
       "      <td>73</td>\n",
       "      <td>30%</td>\n",
       "      <td>$35,446,505</td>\n",
       "      <td>$485,569</td>\n",
       "    </tr>\n",
       "  </tbody>\n",
       "</table>\n",
       "</div>"
      ],
      "text/plain": [
       "  Listings* Year Ago    Dollar Volume      Price\n",
       "1     7,983      -4%  $3,353,852,000   $420,124 \n",
       "2       556     -19%    $145,065,478   $260,909 \n",
       "3        65     -22%     $31,514,889   $484,844 \n",
       "4       244     -10%    $142,090,041   $582,336 \n",
       "5        73      30%     $35,446,505   $485,569 "
      ]
     },
     "execution_count": 5,
     "metadata": {},
     "output_type": "execute_result"
    }
   ],
   "source": [
    "H_data= pd.read_csv(Path(\"./Houston_data.csv\"),skiprows=1)\n",
    "H_data = H_data.drop(columns=['Property Type','Year Ago.1', 'Year Ago.2','Year Ago.3', 'Price.1'])\n",
    "H_data.dropna(inplace=True)\n",
    "H_data.head()                   "
   ]
  },
  {
   "cell_type": "code",
   "execution_count": 6,
   "metadata": {},
   "outputs": [
    {
     "data": {
      "text/plain": [
       "Index(['Listings*', 'Year Ago', 'Dollar Volume', 'Price'], dtype='object')"
      ]
     },
     "execution_count": 6,
     "metadata": {},
     "output_type": "execute_result"
    }
   ],
   "source": [
    "H_data.columns"
   ]
  },
  {
   "cell_type": "code",
   "execution_count": 7,
   "metadata": {},
   "outputs": [
    {
     "data": {
      "text/plain": [
       "Listings*        object\n",
       "Year Ago         object\n",
       "Dollar Volume    object\n",
       "Price            object\n",
       "dtype: object"
      ]
     },
     "execution_count": 7,
     "metadata": {},
     "output_type": "execute_result"
    }
   ],
   "source": [
    "H_data.dtypes"
   ]
  },
  {
   "cell_type": "code",
   "execution_count": 8,
   "metadata": {},
   "outputs": [
    {
     "data": {
      "text/html": [
       "<div>\n",
       "<style scoped>\n",
       "    .dataframe tbody tr th:only-of-type {\n",
       "        vertical-align: middle;\n",
       "    }\n",
       "\n",
       "    .dataframe tbody tr th {\n",
       "        vertical-align: top;\n",
       "    }\n",
       "\n",
       "    .dataframe thead th {\n",
       "        text-align: right;\n",
       "    }\n",
       "</style>\n",
       "<table border=\"1\" class=\"dataframe\">\n",
       "  <thead>\n",
       "    <tr style=\"text-align: right;\">\n",
       "      <th></th>\n",
       "      <th>Sqft*</th>\n",
       "      <th>Listings</th>\n",
       "    </tr>\n",
       "  </thead>\n",
       "  <tbody>\n",
       "    <tr>\n",
       "      <th>1</th>\n",
       "      <td>$175</td>\n",
       "      <td>62,184</td>\n",
       "    </tr>\n",
       "    <tr>\n",
       "      <th>2</th>\n",
       "      <td>$167</td>\n",
       "      <td>4,559</td>\n",
       "    </tr>\n",
       "    <tr>\n",
       "      <th>3</th>\n",
       "      <td>$171</td>\n",
       "      <td>541</td>\n",
       "    </tr>\n",
       "    <tr>\n",
       "      <th>4</th>\n",
       "      <td>$397</td>\n",
       "      <td>1,932</td>\n",
       "    </tr>\n",
       "    <tr>\n",
       "      <th>5</th>\n",
       "      <td>$310</td>\n",
       "      <td>583</td>\n",
       "    </tr>\n",
       "  </tbody>\n",
       "</table>\n",
       "</div>"
      ],
      "text/plain": [
       "   Sqft* Listings\n",
       "1  $175    62,184\n",
       "2  $167     4,559\n",
       "3  $171       541\n",
       "4  $397     1,932\n",
       "5  $310       583"
      ]
     },
     "execution_count": 8,
     "metadata": {},
     "output_type": "execute_result"
    }
   ],
   "source": [
    "Dom_data = pd.read_csv(Path(\"./Days_on_market.csv\"),skiprows=1)\n",
    "Dom_data=Dom_data.drop(columns=['Year Ago','Year Ago.1', 'Year Ago.2', 'Listings.1','Listings.2', 'Year Ago.3','Year Ago.4','Property Type','DOM'])\n",
    "Dom_data.dropna(inplace=True)\n",
    "Dom_data.head()"
   ]
  },
  {
   "cell_type": "code",
   "execution_count": 9,
   "metadata": {},
   "outputs": [
    {
     "data": {
      "text/plain": [
       "Sqft*       object\n",
       "Listings    object\n",
       "dtype: object"
      ]
     },
     "execution_count": 9,
     "metadata": {},
     "output_type": "execute_result"
    }
   ],
   "source": [
    "Dom_data.dtypes"
   ]
  },
  {
   "cell_type": "code",
   "execution_count": 10,
   "metadata": {},
   "outputs": [
    {
     "data": {
      "text/html": [
       "<div>\n",
       "<style scoped>\n",
       "    .dataframe tbody tr th:only-of-type {\n",
       "        vertical-align: middle;\n",
       "    }\n",
       "\n",
       "    .dataframe tbody tr th {\n",
       "        vertical-align: top;\n",
       "    }\n",
       "\n",
       "    .dataframe thead th {\n",
       "        text-align: right;\n",
       "    }\n",
       "</style>\n",
       "<table border=\"1\" class=\"dataframe\">\n",
       "  <thead>\n",
       "    <tr style=\"text-align: right;\">\n",
       "      <th></th>\n",
       "      <th>Year</th>\n",
       "      <th>Month</th>\n",
       "      <th>Sqft</th>\n",
       "      <th>DOM</th>\n",
       "    </tr>\n",
       "  </thead>\n",
       "  <tbody>\n",
       "    <tr>\n",
       "      <th>0</th>\n",
       "      <td>2021</td>\n",
       "      <td>Jan</td>\n",
       "      <td>$132</td>\n",
       "      <td>43</td>\n",
       "    </tr>\n",
       "    <tr>\n",
       "      <th>1</th>\n",
       "      <td>2021</td>\n",
       "      <td>Feb</td>\n",
       "      <td>$139</td>\n",
       "      <td>42</td>\n",
       "    </tr>\n",
       "    <tr>\n",
       "      <th>2</th>\n",
       "      <td>2021</td>\n",
       "      <td>Mar</td>\n",
       "      <td>$143</td>\n",
       "      <td>39</td>\n",
       "    </tr>\n",
       "    <tr>\n",
       "      <th>3</th>\n",
       "      <td>2021</td>\n",
       "      <td>Apr</td>\n",
       "      <td>$148</td>\n",
       "      <td>33</td>\n",
       "    </tr>\n",
       "    <tr>\n",
       "      <th>4</th>\n",
       "      <td>2021</td>\n",
       "      <td>May</td>\n",
       "      <td>$152</td>\n",
       "      <td>28</td>\n",
       "    </tr>\n",
       "  </tbody>\n",
       "</table>\n",
       "</div>"
      ],
      "text/plain": [
       "   Year Month   Sqft  DOM\n",
       "0  2021   Jan  $132    43\n",
       "1  2021   Feb  $139    42\n",
       "2  2021   Mar  $143    39\n",
       "3  2021   Apr  $148    33\n",
       "4  2021   May  $152    28"
      ]
     },
     "execution_count": 10,
     "metadata": {},
     "output_type": "execute_result"
    }
   ],
   "source": [
    "Historic_pricing = pd.read_csv(Path(\"./Historic_pricing.csv\"),skiprows=1)\n",
    "Historic_pricing= Historic_pricing.drop(columns=['Listings*','Price.1', 'Listings.1', 'Listings.2', 'Orig. List Price','Price','Listings'])\n",
    "Historic_pricing.dropna(inplace=True)\n",
    "Historic_pricing.head()"
   ]
  },
  {
   "cell_type": "code",
   "execution_count": 11,
   "metadata": {},
   "outputs": [],
   "source": [
    "Housing_report = pd.concat([H_data,Dom_data,Historic_pricing],axis=1)\n",
    "Housing_report=Housing_report.drop(columns=['Sqft*', 'Listings*', 'Month'])\n",
    "Housing_report.dropna(inplace=True)\n",
    "\n",
    "Housing_report.head()\n",
    "def convert_percentage_to_float(x):\n",
    "    if isinstance(x, str):\n",
    "        return float(x.strip('%')) / 100\n",
    "    return x\n",
    "for column in Housing_report:\n",
    "    Housing_report[column] = pd.to_numeric(Housing_report[column].replace('[\\$,]', '', regex=True), errors='coerce')\n",
    "\n",
    "\n",
    "Housing_report['Dollar Volume'] = pd.to_numeric(Housing_report['Dollar Volume'].replace('[\\$,]', '', regex=True), errors='coerce')\n",
    "Housing_report['Price'] = pd.to_numeric(Housing_report['Price'].replace('[\\$,]', '', regex=True), errors='coerce')\n",
    "Housing_report['Sqft'] = pd.to_numeric(Housing_report['Sqft'].replace('[\\$,]', '', regex=True), errors='coerce')\n",
    "\n",
    "# Handle NaN values (example: fill with 0 or mean, or drop)\n",
    "Housing_report.fillna(0, inplace=True)  # or df.dropna(inplace=True)\n",
    "\n",
    "# Check the data types and convert if necessary\n",
    "Housing_report['Year'] = Housing_report['Year'].astype(int)\n",
    "Housing_report['Year Ago'] = Housing_report['Year Ago'].apply(convert_percentage_to_float)\n",
    "#Housing_report['Dollar Volume'] = pd.to_numeric(Housing_report['Dollar Volume'], errors='coerce')\n",
    "# Housing_report['Price'] = pd.to_numeric(Housing_report['Price'], errors='coerce')\n",
    "#Housing_report['Sqft'] = pd.to_numeric(Housing_report['Sqft'], errors='coerce')\n",
    "#Housing_report['Listings'] = pd.to_numeric(Housing_report['Listings'], errors='coerce')\n"
   ]
  },
  {
   "cell_type": "code",
   "execution_count": 12,
   "metadata": {},
   "outputs": [
    {
     "data": {
      "text/html": [
       "<div>\n",
       "<style scoped>\n",
       "    .dataframe tbody tr th:only-of-type {\n",
       "        vertical-align: middle;\n",
       "    }\n",
       "\n",
       "    .dataframe tbody tr th {\n",
       "        vertical-align: top;\n",
       "    }\n",
       "\n",
       "    .dataframe thead th {\n",
       "        text-align: right;\n",
       "    }\n",
       "</style>\n",
       "<table border=\"1\" class=\"dataframe\">\n",
       "  <thead>\n",
       "    <tr style=\"text-align: right;\">\n",
       "      <th></th>\n",
       "      <th>Year Ago</th>\n",
       "      <th>Dollar Volume</th>\n",
       "      <th>Price</th>\n",
       "      <th>Listings</th>\n",
       "      <th>Year</th>\n",
       "      <th>Sqft</th>\n",
       "      <th>DOM</th>\n",
       "    </tr>\n",
       "  </thead>\n",
       "  <tbody>\n",
       "    <tr>\n",
       "      <th>1</th>\n",
       "      <td>0.0</td>\n",
       "      <td>3353852000</td>\n",
       "      <td>420124</td>\n",
       "      <td>62184</td>\n",
       "      <td>2021</td>\n",
       "      <td>139</td>\n",
       "      <td>42</td>\n",
       "    </tr>\n",
       "    <tr>\n",
       "      <th>2</th>\n",
       "      <td>0.0</td>\n",
       "      <td>145065478</td>\n",
       "      <td>260909</td>\n",
       "      <td>4559</td>\n",
       "      <td>2021</td>\n",
       "      <td>143</td>\n",
       "      <td>39</td>\n",
       "    </tr>\n",
       "    <tr>\n",
       "      <th>3</th>\n",
       "      <td>0.0</td>\n",
       "      <td>31514889</td>\n",
       "      <td>484844</td>\n",
       "      <td>541</td>\n",
       "      <td>2021</td>\n",
       "      <td>148</td>\n",
       "      <td>33</td>\n",
       "    </tr>\n",
       "    <tr>\n",
       "      <th>4</th>\n",
       "      <td>0.0</td>\n",
       "      <td>142090041</td>\n",
       "      <td>582336</td>\n",
       "      <td>1932</td>\n",
       "      <td>2021</td>\n",
       "      <td>152</td>\n",
       "      <td>28</td>\n",
       "    </tr>\n",
       "    <tr>\n",
       "      <th>5</th>\n",
       "      <td>0.0</td>\n",
       "      <td>35446505</td>\n",
       "      <td>485569</td>\n",
       "      <td>583</td>\n",
       "      <td>2021</td>\n",
       "      <td>155</td>\n",
       "      <td>24</td>\n",
       "    </tr>\n",
       "  </tbody>\n",
       "</table>\n",
       "</div>"
      ],
      "text/plain": [
       "   Year Ago  Dollar Volume   Price  Listings  Year  Sqft  DOM\n",
       "1       0.0     3353852000  420124     62184  2021   139   42\n",
       "2       0.0      145065478  260909      4559  2021   143   39\n",
       "3       0.0       31514889  484844       541  2021   148   33\n",
       "4       0.0      142090041  582336      1932  2021   152   28\n",
       "5       0.0       35446505  485569       583  2021   155   24"
      ]
     },
     "execution_count": 12,
     "metadata": {},
     "output_type": "execute_result"
    }
   ],
   "source": [
    "Housing_report.head()"
   ]
  },
  {
   "cell_type": "code",
   "execution_count": 13,
   "metadata": {},
   "outputs": [
    {
     "data": {
      "text/plain": [
       "Index(['Year Ago', 'Dollar Volume', 'Price', 'Listings', 'Year', 'Sqft',\n",
       "       'DOM'],\n",
       "      dtype='object')"
      ]
     },
     "execution_count": 13,
     "metadata": {},
     "output_type": "execute_result"
    }
   ],
   "source": [
    "Housing_report.columns"
   ]
  },
  {
   "cell_type": "code",
   "execution_count": 14,
   "metadata": {},
   "outputs": [
    {
     "name": "stdout",
     "output_type": "stream",
     "text": [
      "<class 'pandas.core.frame.DataFrame'>\n",
      "Index: 28 entries, 1 to 30\n",
      "Data columns (total 7 columns):\n",
      " #   Column         Non-Null Count  Dtype  \n",
      "---  ------         --------------  -----  \n",
      " 0   Year Ago       28 non-null     float64\n",
      " 1   Dollar Volume  28 non-null     int64  \n",
      " 2   Price          28 non-null     int64  \n",
      " 3   Listings       28 non-null     int64  \n",
      " 4   Year           28 non-null     int32  \n",
      " 5   Sqft           28 non-null     int64  \n",
      " 6   DOM            28 non-null     int64  \n",
      "dtypes: float64(1), int32(1), int64(5)\n",
      "memory usage: 1.6 KB\n"
     ]
    }
   ],
   "source": [
    "Housing_report.info()"
   ]
  },
  {
   "cell_type": "code",
   "execution_count": 15,
   "metadata": {},
   "outputs": [],
   "source": [
    "correlation_matrix = Housing_report.corr()"
   ]
  },
  {
   "cell_type": "code",
   "execution_count": 16,
   "metadata": {},
   "outputs": [
    {
     "data": {
      "image/png": "[encoded data removed]",
      "text/plain": [
       "<Figure size 640x480 with 2 Axes>"
      ]
     },
     "metadata": {},
     "output_type": "display_data"
    }
   ],
   "source": [
    "import seaborn as sns\n",
    "import matplotlib.pyplot as plt\n",
    "\n",
    "sns.heatmap(correlation_matrix, annot=True, cmap='coolwarm')\n",
    "plt.show()"
   ]
  },
  {
   "cell_type": "code",
   "execution_count": 17,
   "metadata": {},
   "outputs": [
    {
     "name": "stdout",
     "output_type": "stream",
     "text": [
      "[433624.05385435 459872.2829175  525265.0560801  123023.53128493\n",
      " 130736.04703414  68000.68839777]\n",
      "Mean Squared Error: 50771673445.017555\n",
      "R-squared: -0.5997615018040638\n"
     ]
    }
   ],
   "source": [
    "from sklearn.model_selection import train_test_split\n",
    "from sklearn.linear_model import LinearRegression\n",
    "from sklearn.metrics import mean_squared_error, r2_score\n",
    "\n",
    "# Assuming Housing_report is your dataframe and 'Price' is the column you want to predict\n",
    "target = Housing_report['Price']\n",
    "features = Housing_report.drop(columns='Price')\n",
    "\n",
    "# Splitting the dataset into training and testing sets\n",
    "training_features, testing_features, training_targets, testing_targets = train_test_split(features, target, test_size=0.2, random_state=7)\n",
    "\n",
    "# Create a Linear Regression model\n",
    "linear_regression_model = LinearRegression()\n",
    "\n",
    "# Fit the model on the training data\n",
    "lr_model = linear_regression_model.fit(training_features, training_targets)\n",
    "\n",
    "# Make predictions using the testing set\n",
    "testing_predictions = lr_model.predict(testing_features)\n",
    "\n",
    "# Review the predictions and evaluate the model\n",
    "print(testing_predictions)\n",
    "\n",
    "# Evaluate the model's performance\n",
    "mse = mean_squared_error(testing_targets, testing_predictions)\n",
    "r2 = r2_score(testing_targets, testing_predictions)\n",
    "\n",
    "print(f\"Mean Squared Error: {mse}\")\n",
    "print(f\"R-squared: {r2}\")\n"
   ]
  },
  {
   "cell_type": "code",
   "execution_count": 18,
   "metadata": {},
   "outputs": [
    {
     "data": {
      "text/html": [
       "<div>\n",
       "<style scoped>\n",
       "    .dataframe tbody tr th:only-of-type {\n",
       "        vertical-align: middle;\n",
       "    }\n",
       "\n",
       "    .dataframe tbody tr th {\n",
       "        vertical-align: top;\n",
       "    }\n",
       "\n",
       "    .dataframe thead th {\n",
       "        text-align: right;\n",
       "    }\n",
       "</style>\n",
       "<table border=\"1\" class=\"dataframe\">\n",
       "  <thead>\n",
       "    <tr style=\"text-align: right;\">\n",
       "      <th></th>\n",
       "      <th>Dollar Volume</th>\n",
       "      <th>Price</th>\n",
       "      <th>Listings</th>\n",
       "      <th>Year</th>\n",
       "      <th>Sqft</th>\n",
       "      <th>DOM</th>\n",
       "    </tr>\n",
       "  </thead>\n",
       "  <tbody>\n",
       "    <tr>\n",
       "      <th>1</th>\n",
       "      <td>3353852000</td>\n",
       "      <td>420124</td>\n",
       "      <td>62184</td>\n",
       "      <td>2021</td>\n",
       "      <td>139</td>\n",
       "      <td>42</td>\n",
       "    </tr>\n",
       "    <tr>\n",
       "      <th>2</th>\n",
       "      <td>145065478</td>\n",
       "      <td>260909</td>\n",
       "      <td>4559</td>\n",
       "      <td>2021</td>\n",
       "      <td>143</td>\n",
       "      <td>39</td>\n",
       "    </tr>\n",
       "    <tr>\n",
       "      <th>3</th>\n",
       "      <td>31514889</td>\n",
       "      <td>484844</td>\n",
       "      <td>541</td>\n",
       "      <td>2021</td>\n",
       "      <td>148</td>\n",
       "      <td>33</td>\n",
       "    </tr>\n",
       "    <tr>\n",
       "      <th>4</th>\n",
       "      <td>142090041</td>\n",
       "      <td>582336</td>\n",
       "      <td>1932</td>\n",
       "      <td>2021</td>\n",
       "      <td>152</td>\n",
       "      <td>28</td>\n",
       "    </tr>\n",
       "    <tr>\n",
       "      <th>5</th>\n",
       "      <td>35446505</td>\n",
       "      <td>485569</td>\n",
       "      <td>583</td>\n",
       "      <td>2021</td>\n",
       "      <td>155</td>\n",
       "      <td>24</td>\n",
       "    </tr>\n",
       "  </tbody>\n",
       "</table>\n",
       "</div>"
      ],
      "text/plain": [
       "   Dollar Volume   Price  Listings  Year  Sqft  DOM\n",
       "1     3353852000  420124     62184  2021   139   42\n",
       "2      145065478  260909      4559  2021   143   39\n",
       "3       31514889  484844       541  2021   148   33\n",
       "4      142090041  582336      1932  2021   152   28\n",
       "5       35446505  485569       583  2021   155   24"
      ]
     },
     "execution_count": 18,
     "metadata": {},
     "output_type": "execute_result"
    }
   ],
   "source": [
    "X = Housing_report.drop(columns=['Year Ago']).copy()\n",
    "X.head()\n"
   ]
  },
  {
   "cell_type": "code",
   "execution_count": 24,
   "metadata": {},
   "outputs": [
    {
     "data": {
      "text/plain": [
       "1    42\n",
       "2    39\n",
       "3    33\n",
       "4    28\n",
       "5    24\n",
       "Name: DOM, dtype: int64"
      ]
     },
     "execution_count": 24,
     "metadata": {},
     "output_type": "execute_result"
    }
   ],
   "source": [
    "y = Housing_report[\"DOM\"]\n",
    "y[:5]"
   ]
  },
  {
   "cell_type": "code",
   "execution_count": 25,
   "metadata": {},
   "outputs": [],
   "source": [
    "X_train, X_test, y_train, y_test = train_test_split(X, y, random_state=78)"
   ]
  },
  {
   "cell_type": "code",
   "execution_count": 29,
   "metadata": {},
   "outputs": [],
   "source": [
    "X_scaler = StandardScaler()"
   ]
  },
  {
   "cell_type": "code",
   "execution_count": 30,
   "metadata": {},
   "outputs": [
    {
     "data": {
      "text/html": [
       "<style>#sk-container-id-1 {color: black;}#sk-container-id-1 pre{padding: 0;}#sk-container-id-1 div.sk-toggleable {background-color: white;}#sk-container-id-1 label.sk-toggleable__label {cursor: pointer;display: block;width: 100%;margin-bottom: 0;padding: 0.3em;box-sizing: border-box;text-align: center;}#sk-container-id-1 label.sk-toggleable__label-arrow:before {content: \"▸\";float: left;margin-right: 0.25em;color: #696969;}#sk-container-id-1 label.sk-toggleable__label-arrow:hover:before {color: black;}#sk-container-id-1 div.sk-estimator:hover label.sk-toggleable__label-arrow:before {color: black;}#sk-container-id-1 div.sk-toggleable__content {max-height: 0;max-width: 0;overflow: hidden;text-align: left;background-color: #f0f8ff;}#sk-container-id-1 div.sk-toggleable__content pre {margin: 0.2em;color: black;border-radius: 0.25em;background-color: #f0f8ff;}#sk-container-id-1 input.sk-toggleable__control:checked~div.sk-toggleable__content {max-height: 200px;max-width: 100%;overflow: auto;}#sk-container-id-1 input.sk-toggleable__control:checked~label.sk-toggleable__label-arrow:before {content: \"▾\";}#sk-container-id-1 div.sk-estimator input.sk-toggleable__control:checked~label.sk-toggleable__label {background-color: #d4ebff;}#sk-container-id-1 div.sk-label input.sk-toggleable__control:checked~label.sk-toggleable__label {background-color: #d4ebff;}#sk-container-id-1 input.sk-hidden--visually {border: 0;clip: rect(1px 1px 1px 1px);clip: rect(1px, 1px, 1px, 1px);height: 1px;margin: -1px;overflow: hidden;padding: 0;position: absolute;width: 1px;}#sk-container-id-1 div.sk-estimator {font-family: monospace;background-color: #f0f8ff;border: 1px dotted black;border-radius: 0.25em;box-sizing: border-box;margin-bottom: 0.5em;}#sk-container-id-1 div.sk-estimator:hover {background-color: #d4ebff;}#sk-container-id-1 div.sk-parallel-item::after {content: \"\";width: 100%;border-bottom: 1px solid gray;flex-grow: 1;}#sk-container-id-1 div.sk-label:hover label.sk-toggleable__label {background-color: #d4ebff;}#sk-container-id-1 div.sk-serial::before {content: \"\";position: absolute;border-left: 1px solid gray;box-sizing: border-box;top: 0;bottom: 0;left: 50%;z-index: 0;}#sk-container-id-1 div.sk-serial {display: flex;flex-direction: column;align-items: center;background-color: white;padding-right: 0.2em;padding-left: 0.2em;position: relative;}#sk-container-id-1 div.sk-item {position: relative;z-index: 1;}#sk-container-id-1 div.sk-parallel {display: flex;align-items: stretch;justify-content: center;background-color: white;position: relative;}#sk-container-id-1 div.sk-item::before, #sk-container-id-1 div.sk-parallel-item::before {content: \"\";position: absolute;border-left: 1px solid gray;box-sizing: border-box;top: 0;bottom: 0;left: 50%;z-index: -1;}#sk-container-id-1 div.sk-parallel-item {display: flex;flex-direction: column;z-index: 1;position: relative;background-color: white;}#sk-container-id-1 div.sk-parallel-item:first-child::after {align-self: flex-end;width: 50%;}#sk-container-id-1 div.sk-parallel-item:last-child::after {align-self: flex-start;width: 50%;}#sk-container-id-1 div.sk-parallel-item:only-child::after {width: 0;}#sk-container-id-1 div.sk-dashed-wrapped {border: 1px dashed gray;margin: 0 0.4em 0.5em 0.4em;box-sizing: border-box;padding-bottom: 0.4em;background-color: white;}#sk-container-id-1 div.sk-label label {font-family: monospace;font-weight: bold;display: inline-block;line-height: 1.2em;}#sk-container-id-1 div.sk-label-container {text-align: center;}#sk-container-id-1 div.sk-container {/* jupyter's `normalize.less` sets `[hidden] { display: none; }` but bootstrap.min.css set `[hidden] { display: none !important; }` so we also need the `!important` here to be able to override the default hidden behavior on the sphinx rendered scikit-learn.org. See: https://github.com/scikit-learn/scikit-learn/issues/21755 */display: inline-block !important;position: relative;}#sk-container-id-1 div.sk-text-repr-fallback {display: none;}</style><div id=\"sk-container-id-1\" class=\"sk-top-container\"><div class=\"sk-text-repr-fallback\"><pre>StandardScaler()</pre><b>In a Jupyter environment, please rerun this cell to show the HTML representation or trust the notebook. <br />On GitHub, the HTML representation is unable to render, please try loading this page with nbviewer.org.</b></div><div class=\"sk-container\" hidden><div class=\"sk-item\"><div class=\"sk-estimator sk-toggleable\"><input class=\"sk-toggleable__control sk-hidden--visually\" id=\"sk-estimator-id-1\" type=\"checkbox\" checked><label for=\"sk-estimator-id-1\" class=\"sk-toggleable__label sk-toggleable__label-arrow\">StandardScaler</label><div class=\"sk-toggleable__content\"><pre>StandardScaler()</pre></div></div></div></div></div>"
      ],
      "text/plain": [
       "StandardScaler()"
      ]
     },
     "execution_count": 30,
     "metadata": {},
     "output_type": "execute_result"
    }
   ],
   "source": [
    "X_scaler.fit(X_train)"
   ]
  },
  {
   "cell_type": "code",
   "execution_count": 31,
   "metadata": {},
   "outputs": [],
   "source": [
    "X_train_scaled = X_scaler.transform(X_train)\n",
    "X_test_scaled = X_scaler.transform(X_test)"
   ]
  },
  {
   "cell_type": "code",
   "execution_count": 32,
   "metadata": {},
   "outputs": [
    {
     "name": "stdout",
     "output_type": "stream",
     "text": [
      "WARNING:tensorflow:From c:\\Users\\mrjwi\\anaconda3\\envs\\mlenv\\lib\\site-packages\\keras\\src\\backend.py:873: The name tf.get_default_graph is deprecated. Please use tf.compat.v1.get_default_graph instead.\n",
      "\n"
     ]
    }
   ],
   "source": [
    "# Define the the number of inputs to the model\n",
    "number_inputs = X_train.shape[1]\n",
    "\n",
    "# Define the number of hidden nodes for the model\n",
    "number_hidden_nodes = 12\n",
    "\n",
    "# Create the Sequential model instance\n",
    "neuron = Sequential([\n",
    "    Dense(number_hidden_nodes, input_shape=(number_inputs,), activation='relu'),\n",
    "    Dense(1, activation='linear')  # or another activation function appropriate for your task\n",
    "])"
   ]
  },
  {
   "cell_type": "code",
   "execution_count": 33,
   "metadata": {},
   "outputs": [
    {
     "name": "stdout",
     "output_type": "stream",
     "text": [
      "Model: \"sequential\"\n",
      "_________________________________________________________________\n",
      " Layer (type)                Output Shape              Param #   \n",
      "=================================================================\n",
      " dense (Dense)               (None, 12)                84        \n",
      "                                                                 \n",
      " dense_1 (Dense)             (None, 1)                 13        \n",
      "                                                                 \n",
      "=================================================================\n",
      "Total params: 97 (388.00 Byte)\n",
      "Trainable params: 97 (388.00 Byte)\n",
      "Non-trainable params: 0 (0.00 Byte)\n",
      "_________________________________________________________________\n"
     ]
    }
   ],
   "source": [
    "neuron.summary()"
   ]
  },
  {
   "cell_type": "code",
   "execution_count": 34,
   "metadata": {},
   "outputs": [
    {
     "name": "stdout",
     "output_type": "stream",
     "text": [
      "WARNING:tensorflow:From c:\\Users\\mrjwi\\anaconda3\\envs\\mlenv\\lib\\site-packages\\keras\\src\\optimizers\\__init__.py:309: The name tf.train.Optimizer is deprecated. Please use tf.compat.v1.train.Optimizer instead.\n",
      "\n"
     ]
    }
   ],
   "source": [
    "neuron.compile(optimizer='adam', loss='mean_squared_error')"
   ]
  },
  {
   "cell_type": "code",
   "execution_count": 35,
   "metadata": {},
   "outputs": [
    {
     "name": "stdout",
     "output_type": "stream",
     "text": [
      "Epoch 1/100\n",
      "WARNING:tensorflow:From c:\\Users\\mrjwi\\anaconda3\\envs\\mlenv\\lib\\site-packages\\keras\\src\\utils\\tf_utils.py:492: The name tf.ragged.RaggedTensorValue is deprecated. Please use tf.compat.v1.ragged.RaggedTensorValue instead.\n",
      "\n",
      "1/1 [==============================] - 1s 699ms/step - loss: 1163.3821\n",
      "Epoch 2/100\n",
      "1/1 [==============================] - 0s 12ms/step - loss: 1162.7272\n",
      "Epoch 3/100\n",
      "1/1 [==============================] - 0s 11ms/step - loss: 1162.0742\n",
      "Epoch 4/100\n",
      "1/1 [==============================] - 0s 0s/step - loss: 1161.4211\n",
      "Epoch 5/100\n",
      "1/1 [==============================] - 0s 10ms/step - loss: 1160.7673\n",
      "Epoch 6/100\n",
      "1/1 [==============================] - 0s 0s/step - loss: 1160.1136\n",
      "Epoch 7/100\n",
      "1/1 [==============================] - 0s 3ms/step - loss: 1159.4602\n",
      "Epoch 8/100\n",
      "1/1 [==============================] - 0s 0s/step - loss: 1158.8088\n",
      "Epoch 9/100\n",
      "1/1 [==============================] - 0s 0s/step - loss: 1158.1569\n",
      "Epoch 10/100\n",
      "1/1 [==============================] - 0s 8ms/step - loss: 1157.5040\n",
      "Epoch 11/100\n",
      "1/1 [==============================] - 0s 8ms/step - loss: 1156.8517\n",
      "Epoch 12/100\n",
      "1/1 [==============================] - 0s 9ms/step - loss: 1156.2002\n",
      "Epoch 13/100\n",
      "1/1 [==============================] - 0s 10ms/step - loss: 1155.5491\n",
      "Epoch 14/100\n",
      "1/1 [==============================] - 0s 2ms/step - loss: 1154.8982\n",
      "Epoch 15/100\n",
      "1/1 [==============================] - 0s 8ms/step - loss: 1154.2471\n",
      "Epoch 16/100\n",
      "1/1 [==============================] - 0s 3ms/step - loss: 1153.5963\n",
      "Epoch 17/100\n",
      "1/1 [==============================] - 0s 0s/step - loss: 1152.9456\n",
      "Epoch 18/100\n",
      "1/1 [==============================] - 0s 14ms/step - loss: 1152.2949\n",
      "Epoch 19/100\n",
      "1/1 [==============================] - 0s 0s/step - loss: 1151.6443\n",
      "Epoch 20/100\n",
      "1/1 [==============================] - 0s 0s/step - loss: 1151.0015\n",
      "Epoch 21/100\n",
      "1/1 [==============================] - 0s 9ms/step - loss: 1150.3600\n",
      "Epoch 22/100\n",
      "1/1 [==============================] - 0s 4ms/step - loss: 1149.7185\n",
      "Epoch 23/100\n",
      "1/1 [==============================] - 0s 12ms/step - loss: 1149.0778\n",
      "Epoch 24/100\n",
      "1/1 [==============================] - 0s 6ms/step - loss: 1148.4369\n",
      "Epoch 25/100\n",
      "1/1 [==============================] - 0s 4ms/step - loss: 1147.7959\n",
      "Epoch 26/100\n",
      "1/1 [==============================] - 0s 0s/step - loss: 1147.1553\n",
      "Epoch 27/100\n",
      "1/1 [==============================] - 0s 4ms/step - loss: 1146.5149\n",
      "Epoch 28/100\n",
      "1/1 [==============================] - 0s 8ms/step - loss: 1145.8745\n",
      "Epoch 29/100\n",
      "1/1 [==============================] - 0s 5ms/step - loss: 1145.2393\n",
      "Epoch 30/100\n",
      "1/1 [==============================] - 0s 1ms/step - loss: 1144.6061\n",
      "Epoch 31/100\n",
      "1/1 [==============================] - 0s 0s/step - loss: 1143.9729\n",
      "Epoch 32/100\n",
      "1/1 [==============================] - 0s 5ms/step - loss: 1143.3396\n",
      "Epoch 33/100\n",
      "1/1 [==============================] - 0s 11ms/step - loss: 1142.7059\n",
      "Epoch 34/100\n",
      "1/1 [==============================] - 0s 3ms/step - loss: 1142.0737\n",
      "Epoch 35/100\n",
      "1/1 [==============================] - 0s 0s/step - loss: 1141.4414\n",
      "Epoch 36/100\n",
      "1/1 [==============================] - 0s 10ms/step - loss: 1140.8083\n",
      "Epoch 37/100\n",
      "1/1 [==============================] - 0s 5ms/step - loss: 1140.1750\n",
      "Epoch 38/100\n",
      "1/1 [==============================] - 0s 5ms/step - loss: 1139.5413\n",
      "Epoch 39/100\n",
      "1/1 [==============================] - 0s 9ms/step - loss: 1138.9066\n",
      "Epoch 40/100\n",
      "1/1 [==============================] - 0s 7ms/step - loss: 1138.2717\n",
      "Epoch 41/100\n",
      "1/1 [==============================] - 0s 9ms/step - loss: 1137.6361\n",
      "Epoch 42/100\n",
      "1/1 [==============================] - 0s 4ms/step - loss: 1137.0001\n",
      "Epoch 43/100\n",
      "1/1 [==============================] - 0s 9ms/step - loss: 1136.3633\n",
      "Epoch 44/100\n",
      "1/1 [==============================] - 0s 8ms/step - loss: 1135.7257\n",
      "Epoch 45/100\n",
      "1/1 [==============================] - 0s 0s/step - loss: 1135.0876\n",
      "Epoch 46/100\n",
      "1/1 [==============================] - 0s 12ms/step - loss: 1134.4487\n",
      "Epoch 47/100\n",
      "1/1 [==============================] - 0s 8ms/step - loss: 1133.8093\n",
      "Epoch 48/100\n",
      "1/1 [==============================] - 0s 0s/step - loss: 1133.1689\n",
      "Epoch 49/100\n",
      "1/1 [==============================] - 0s 8ms/step - loss: 1132.5280\n",
      "Epoch 50/100\n",
      "1/1 [==============================] - 0s 10ms/step - loss: 1131.8861\n",
      "Epoch 51/100\n",
      "1/1 [==============================] - 0s 7ms/step - loss: 1131.2435\n",
      "Epoch 52/100\n",
      "1/1 [==============================] - 0s 0s/step - loss: 1130.6002\n",
      "Epoch 53/100\n",
      "1/1 [==============================] - 0s 14ms/step - loss: 1129.9559\n",
      "Epoch 54/100\n",
      "1/1 [==============================] - 0s 8ms/step - loss: 1129.3107\n",
      "Epoch 55/100\n",
      "1/1 [==============================] - 0s 8ms/step - loss: 1128.6647\n",
      "Epoch 56/100\n",
      "1/1 [==============================] - 0s 0s/step - loss: 1128.0176\n",
      "Epoch 57/100\n",
      "1/1 [==============================] - 0s 0s/step - loss: 1127.3698\n",
      "Epoch 58/100\n",
      "1/1 [==============================] - 0s 7ms/step - loss: 1126.7205\n",
      "Epoch 59/100\n",
      "1/1 [==============================] - 0s 2ms/step - loss: 1126.0681\n",
      "Epoch 60/100\n",
      "1/1 [==============================] - 0s 9ms/step - loss: 1125.4147\n",
      "Epoch 61/100\n",
      "1/1 [==============================] - 0s 0s/step - loss: 1124.7603\n",
      "Epoch 62/100\n",
      "1/1 [==============================] - 0s 15ms/step - loss: 1124.1046\n",
      "Epoch 63/100\n",
      "1/1 [==============================] - 0s 4ms/step - loss: 1123.4475\n",
      "Epoch 64/100\n",
      "1/1 [==============================] - 0s 13ms/step - loss: 1122.7883\n",
      "Epoch 65/100\n",
      "1/1 [==============================] - 0s 4ms/step - loss: 1122.1276\n",
      "Epoch 66/100\n",
      "1/1 [==============================] - 0s 10ms/step - loss: 1121.4655\n",
      "Epoch 67/100\n",
      "1/1 [==============================] - 0s 5ms/step - loss: 1120.8019\n",
      "Epoch 68/100\n",
      "1/1 [==============================] - 0s 9ms/step - loss: 1120.1364\n",
      "Epoch 69/100\n",
      "1/1 [==============================] - 0s 7ms/step - loss: 1119.4663\n",
      "Epoch 70/100\n",
      "1/1 [==============================] - 0s 9ms/step - loss: 1118.7942\n",
      "Epoch 71/100\n",
      "1/1 [==============================] - 0s 5ms/step - loss: 1118.1196\n",
      "Epoch 72/100\n",
      "1/1 [==============================] - 0s 6ms/step - loss: 1117.4429\n",
      "Epoch 73/100\n",
      "1/1 [==============================] - 0s 9ms/step - loss: 1116.7642\n",
      "Epoch 74/100\n",
      "1/1 [==============================] - 0s 0s/step - loss: 1116.0834\n",
      "Epoch 75/100\n",
      "1/1 [==============================] - 0s 18ms/step - loss: 1115.4006\n",
      "Epoch 76/100\n",
      "1/1 [==============================] - 0s 0s/step - loss: 1114.7158\n",
      "Epoch 77/100\n",
      "1/1 [==============================] - 0s 13ms/step - loss: 1114.0305\n",
      "Epoch 78/100\n",
      "1/1 [==============================] - 0s 0s/step - loss: 1113.3438\n",
      "Epoch 79/100\n",
      "1/1 [==============================] - 0s 12ms/step - loss: 1112.6552\n",
      "Epoch 80/100\n",
      "1/1 [==============================] - 0s 3ms/step - loss: 1111.9646\n",
      "Epoch 81/100\n",
      "1/1 [==============================] - 0s 0s/step - loss: 1111.2722\n",
      "Epoch 82/100\n",
      "1/1 [==============================] - 0s 33ms/step - loss: 1110.5778\n",
      "Epoch 83/100\n",
      "1/1 [==============================] - 0s 8ms/step - loss: 1109.8818\n",
      "Epoch 84/100\n",
      "1/1 [==============================] - 0s 9ms/step - loss: 1109.1858\n",
      "Epoch 85/100\n",
      "1/1 [==============================] - 0s 8ms/step - loss: 1108.4884\n",
      "Epoch 86/100\n",
      "1/1 [==============================] - 0s 8ms/step - loss: 1107.7887\n",
      "Epoch 87/100\n",
      "1/1 [==============================] - 0s 9ms/step - loss: 1107.0869\n",
      "Epoch 88/100\n",
      "1/1 [==============================] - 0s 0s/step - loss: 1106.3839\n",
      "Epoch 89/100\n",
      "1/1 [==============================] - 0s 3ms/step - loss: 1105.6783\n",
      "Epoch 90/100\n",
      "1/1 [==============================] - 0s 0s/step - loss: 1104.9705\n",
      "Epoch 91/100\n",
      "1/1 [==============================] - 0s 13ms/step - loss: 1104.2600\n",
      "Epoch 92/100\n",
      "1/1 [==============================] - 0s 3ms/step - loss: 1103.5471\n",
      "Epoch 93/100\n",
      "1/1 [==============================] - 0s 0s/step - loss: 1102.8319\n",
      "Epoch 94/100\n",
      "1/1 [==============================] - 0s 13ms/step - loss: 1102.1143\n",
      "Epoch 95/100\n",
      "1/1 [==============================] - 0s 0s/step - loss: 1101.3943\n",
      "Epoch 96/100\n",
      "1/1 [==============================] - 0s 0s/step - loss: 1100.6721\n",
      "Epoch 97/100\n",
      "1/1 [==============================] - 0s 5ms/step - loss: 1099.9482\n",
      "Epoch 98/100\n",
      "1/1 [==============================] - 0s 0s/step - loss: 1099.2228\n",
      "Epoch 99/100\n",
      "1/1 [==============================] - 0s 12ms/step - loss: 1098.4946\n",
      "Epoch 100/100\n",
      "1/1 [==============================] - 0s 4ms/step - loss: 1097.7640\n"
     ]
    }
   ],
   "source": [
    "model = neuron.fit(X_train_scaled, y_train, epochs=100)"
   ]
  },
  {
   "cell_type": "code",
   "execution_count": 36,
   "metadata": {},
   "outputs": [],
   "source": [
    "model_plot = pd.DataFrame(model.history, index=range(1, len(model.history[\"loss\"]) + 1))"
   ]
  },
  {
   "cell_type": "code",
   "execution_count": 37,
   "metadata": {},
   "outputs": [
    {
     "data": {
      "text/html": [
       "<div>\n",
       "<style scoped>\n",
       "    .dataframe tbody tr th:only-of-type {\n",
       "        vertical-align: middle;\n",
       "    }\n",
       "\n",
       "    .dataframe tbody tr th {\n",
       "        vertical-align: top;\n",
       "    }\n",
       "\n",
       "    .dataframe thead th {\n",
       "        text-align: right;\n",
       "    }\n",
       "</style>\n",
       "<table border=\"1\" class=\"dataframe\">\n",
       "  <thead>\n",
       "    <tr style=\"text-align: right;\">\n",
       "      <th></th>\n",
       "      <th>loss</th>\n",
       "    </tr>\n",
       "  </thead>\n",
       "  <tbody>\n",
       "    <tr>\n",
       "      <th>1</th>\n",
       "      <td>1163.382080</td>\n",
       "    </tr>\n",
       "    <tr>\n",
       "      <th>2</th>\n",
       "      <td>1162.727173</td>\n",
       "    </tr>\n",
       "    <tr>\n",
       "      <th>3</th>\n",
       "      <td>1162.074219</td>\n",
       "    </tr>\n",
       "  </tbody>\n",
       "</table>\n",
       "</div>"
      ],
      "text/plain": [
       "          loss\n",
       "1  1163.382080\n",
       "2  1162.727173\n",
       "3  1162.074219"
      ]
     },
     "execution_count": 37,
     "metadata": {},
     "output_type": "execute_result"
    }
   ],
   "source": [
    "model_plot.head(3)"
   ]
  },
  {
   "cell_type": "code",
   "execution_count": 38,
   "metadata": {},
   "outputs": [
    {
     "data": {
      "text/plain": [
       "<Axes: >"
      ]
     },
     "execution_count": 38,
     "metadata": {},
     "output_type": "execute_result"
    },
    {
     "data": {
      "image/png": "[encoded data removed]",
      "text/plain": [
       "<Figure size 640x480 with 1 Axes>"
      ]
     },
     "metadata": {},
     "output_type": "display_data"
    }
   ],
   "source": [
    "model_plot.plot(y=\"loss\")"
   ]
  },
  {
   "cell_type": "code",
   "execution_count": 19,
   "metadata": {},
   "outputs": [],
   "source": [
    "# target = Housing_report['Price']\n",
    "# features = Housing_report.drop(columns='Price')"
   ]
  },
  {
   "cell_type": "code",
   "execution_count": 20,
   "metadata": {},
   "outputs": [],
   "source": [
    "# training_features, testing_features, training_targets, testing_targets = train_test_split(features, target)"
   ]
  },
  {
   "cell_type": "code",
   "execution_count": 21,
   "metadata": {},
   "outputs": [],
   "source": [
    "# logistic_regression_model = LogisticRegression(random_state=7)"
   ]
  },
  {
   "cell_type": "code",
   "execution_count": 22,
   "metadata": {},
   "outputs": [],
   "source": [
    "# lr_model = logistic_regression_model.fit(training_features, training_targets)"
   ]
  },
  {
   "cell_type": "code",
   "execution_count": 23,
   "metadata": {},
   "outputs": [],
   "source": [
    "# testing_predictions = lr_model.predict(testing_features)\n",
    "\n",
    "# # Review the predictions\n",
    "# testing_predictions"
   ]
  },
  {
   "cell_type": "code",
   "execution_count": null,
   "metadata": {},
   "outputs": [],
   "source": []
  }
 ],
 "metadata": {
  "kernelspec": {
   "display_name": "mlenv",
   "language": "python",
   "name": "python3"
  },
  "language_info": {
   "codemirror_mode": {
    "name": "ipython",
    "version": 3
   },
   "file_extension": ".py",
   "mimetype": "text/x-python",
   "name": "python",
   "nbconvert_exporter": "python",
   "pygments_lexer": "ipython3",
   "version": "3.10.13"
  }
 },
 "nbformat": 4,
 "nbformat_minor": 2
}
