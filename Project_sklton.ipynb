{
 "cells": [
  {
   "cell_type": "code",
   "execution_count": 1,
   "metadata": {},
   "outputs": [
    {
     "data": {
      "application/javascript": "(function(root) {\n  function now() {\n    return new Date();\n  }\n\n  var force = true;\n\n  if (typeof root._bokeh_onload_callbacks === \"undefined\" || force === true) {\n    root._bokeh_onload_callbacks = [];\n    root._bokeh_is_loading = undefined;\n  }\n\n  if (typeof (root._bokeh_timeout) === \"undefined\" || force === true) {\n    root._bokeh_timeout = Date.now() + 5000;\n    root._bokeh_failed_load = false;\n  }\n\n  function run_callbacks() {\n    try {\n      root._bokeh_onload_callbacks.forEach(function(callback) {\n        if (callback != null)\n          callback();\n      });\n    } finally {\n      delete root._bokeh_onload_callbacks\n    }\n    console.debug(\"Bokeh: all callbacks have finished\");\n  }\n\n  function load_libs(css_urls, js_urls, js_modules, callback) {\n    if (css_urls == null) css_urls = [];\n    if (js_urls == null) js_urls = [];\n    if (js_modules == null) js_modules = [];\n\n    root._bokeh_onload_callbacks.push(callback);\n    if (root._bokeh_is_loading > 0) {\n      console.debug(\"Bokeh: BokehJS is being loaded, scheduling callback at\", now());\n      return null;\n    }\n    if (js_urls.length === 0 && js_modules.length === 0) {\n      run_callbacks();\n      return null;\n    }\n    console.debug(\"Bokeh: BokehJS not loaded, scheduling load and callback at\", now());\n\n    function on_load() {\n      root._bokeh_is_loading--;\n      if (root._bokeh_is_loading === 0) {\n        console.debug(\"Bokeh: all BokehJS libraries/stylesheets loaded\");\n        run_callbacks()\n      }\n    }\n\n    function on_error() {\n      console.error(\"failed to load \" + url);\n    }\n\n    for (var i = 0; i < css_urls.length; i++) {\n      var url = css_urls[i];\n      const element = document.createElement(\"link\");\n      element.onload = on_load;\n      element.onerror = on_error;\n      element.rel = \"stylesheet\";\n      element.type = \"text/css\";\n      element.href = url;\n      console.debug(\"Bokeh: injecting link tag for BokehJS stylesheet: \", url);\n      document.body.appendChild(element);\n    }\n\n    var skip = [];\n    if (window.requirejs) {\n      window.requirejs.config({'packages': {}, 'paths': {'gridstack': 'https://cdn.jsdelivr.net/npm/gridstack@4.2.5/dist/gridstack-h5', 'notyf': 'https://cdn.jsdelivr.net/npm/notyf@3/notyf.min'}, 'shim': {'gridstack': {'exports': 'GridStack'}}});\n      require([\"gridstack\"], function(GridStack) {\n\twindow.GridStack = GridStack\n\ton_load()\n      })\n      require([\"notyf\"], function() {\n\ton_load()\n      })\n      root._bokeh_is_loading = css_urls.length + 2;\n    } else {\n      root._bokeh_is_loading = css_urls.length + js_urls.length + js_modules.length;\n    }    if (((window['GridStack'] !== undefined) && (!(window['GridStack'] instanceof HTMLElement))) || window.requirejs) {\n      var urls = ['https://cdn.holoviz.org/panel/0.14.4/dist/bundled/gridstack/gridstack@4.2.5/dist/gridstack-h5.js'];\n      for (var i = 0; i < urls.length; i++) {\n        skip.push(urls[i])\n      }\n    }    if (((window['Notyf'] !== undefined) && (!(window['Notyf'] instanceof HTMLElement))) || window.requirejs) {\n      var urls = ['https://cdn.holoviz.org/panel/0.14.4/dist/bundled/notificationarea/notyf@3/notyf.min.js'];\n      for (var i = 0; i < urls.length; i++) {\n        skip.push(urls[i])\n      }\n    }    for (var i = 0; i < js_urls.length; i++) {\n      var url = js_urls[i];\n      if (skip.indexOf(url) >= 0) {\n\tif (!window.requirejs) {\n\t  on_load();\n\t}\n\tcontinue;\n      }\n      var element = document.createElement('script');\n      element.onload = on_load;\n      element.onerror = on_error;\n      element.async = false;\n      element.src = url;\n      console.debug(\"Bokeh: injecting script tag for BokehJS library: \", url);\n      document.head.appendChild(element);\n    }\n    for (var i = 0; i < js_modules.length; i++) {\n      var url = js_modules[i];\n      if (skip.indexOf(url) >= 0) {\n\tif (!window.requirejs) {\n\t  on_load();\n\t}\n\tcontinue;\n      }\n      var element = document.createElement('script');\n      element.onload = on_load;\n      element.onerror = on_error;\n      element.async = false;\n      element.src = url;\n      element.type = \"module\";\n      console.debug(\"Bokeh: injecting script tag for BokehJS library: \", url);\n      document.head.appendChild(element);\n    }\n    if (!js_urls.length && !js_modules.length) {\n      on_load()\n    }\n  };\n\n  function inject_raw_css(css) {\n    const element = document.createElement(\"style\");\n    element.appendChild(document.createTextNode(css));\n    document.body.appendChild(element);\n  }\n\n  var js_urls = [\"https://cdn.bokeh.org/bokeh/release/bokeh-2.4.3.min.js\", \"https://cdn.bokeh.org/bokeh/release/bokeh-gl-2.4.3.min.js\", \"https://cdn.bokeh.org/bokeh/release/bokeh-widgets-2.4.3.min.js\", \"https://cdn.bokeh.org/bokeh/release/bokeh-tables-2.4.3.min.js\", \"https://cdn.bokeh.org/bokeh/release/bokeh-mathjax-2.4.3.min.js\", \"https://unpkg.com/@holoviz/panel@0.14.4/dist/panel.min.js\"];\n  var js_modules = [];\n  var css_urls = [\"https://cdn.holoviz.org/panel/0.14.4/dist/css/debugger.css\", \"https://cdn.holoviz.org/panel/0.14.4/dist/css/alerts.css\", \"https://cdn.holoviz.org/panel/0.14.4/dist/css/card.css\", \"https://cdn.holoviz.org/panel/0.14.4/dist/css/widgets.css\", \"https://cdn.holoviz.org/panel/0.14.4/dist/css/markdown.css\", \"https://cdn.holoviz.org/panel/0.14.4/dist/css/json.css\", \"https://cdn.holoviz.org/panel/0.14.4/dist/css/loading.css\", \"https://cdn.holoviz.org/panel/0.14.4/dist/css/dataframe.css\"];\n  var inline_js = [    function(Bokeh) {\n      inject_raw_css(\"\\n    .bk.pn-loading.arc:before {\\n      background-image: url(\\\"data:image/svg+xml;base64,PHN2ZyB4bWxucz0iaHR0cDovL3d3dy53My5vcmcvMjAwMC9zdmciIHN0eWxlPSJtYXJnaW46IGF1dG87IGJhY2tncm91bmQ6IG5vbmU7IGRpc3BsYXk6IGJsb2NrOyBzaGFwZS1yZW5kZXJpbmc6IGF1dG87IiB2aWV3Qm94PSIwIDAgMTAwIDEwMCIgcHJlc2VydmVBc3BlY3RSYXRpbz0ieE1pZFlNaWQiPiAgPGNpcmNsZSBjeD0iNTAiIGN5PSI1MCIgZmlsbD0ibm9uZSIgc3Ryb2tlPSIjYzNjM2MzIiBzdHJva2Utd2lkdGg9IjEwIiByPSIzNSIgc3Ryb2tlLWRhc2hhcnJheT0iMTY0LjkzMzYxNDMxMzQ2NDE1IDU2Ljk3Nzg3MTQzNzgyMTM4Ij4gICAgPGFuaW1hdGVUcmFuc2Zvcm0gYXR0cmlidXRlTmFtZT0idHJhbnNmb3JtIiB0eXBlPSJyb3RhdGUiIHJlcGVhdENvdW50PSJpbmRlZmluaXRlIiBkdXI9IjFzIiB2YWx1ZXM9IjAgNTAgNTA7MzYwIDUwIDUwIiBrZXlUaW1lcz0iMDsxIj48L2FuaW1hdGVUcmFuc2Zvcm0+ICA8L2NpcmNsZT48L3N2Zz4=\\\");\\n      background-size: auto calc(min(50%, 400px));\\n    }\\n    \");\n    },    function(Bokeh) {\n      Bokeh.set_log_level(\"info\");\n    },\nfunction(Bokeh) {} // ensure no trailing comma for IE\n  ];\n\n  function run_inline_js() {\n    if ((root.Bokeh !== undefined) || (force === true)) {\n      for (var i = 0; i < inline_js.length; i++) {\n        inline_js[i].call(root, root.Bokeh);\n      }} else if (Date.now() < root._bokeh_timeout) {\n      setTimeout(run_inline_js, 100);\n    } else if (!root._bokeh_failed_load) {\n      console.log(\"Bokeh: BokehJS failed to load within specified timeout.\");\n      root._bokeh_failed_load = true;\n    }\n  }\n\n  if (root._bokeh_is_loading === 0) {\n    console.debug(\"Bokeh: BokehJS loaded, going straight to plotting\");\n    run_inline_js();\n  } else {\n    load_libs(css_urls, js_urls, js_modules, function() {\n      console.debug(\"Bokeh: BokehJS plotting callback run at\", now());\n      run_inline_js();\n    });\n  }\n}(window));",
      "application/vnd.holoviews_load.v0+json": ""
     },
     "metadata": {},
     "output_type": "display_data"
    },
    {
     "data": {
      "application/javascript": "\nif ((window.PyViz === undefined) || (window.PyViz instanceof HTMLElement)) {\n  window.PyViz = {comms: {}, comm_status:{}, kernels:{}, receivers: {}, plot_index: []}\n}\n\n\n    function JupyterCommManager() {\n    }\n\n    JupyterCommManager.prototype.register_target = function(plot_id, comm_id, msg_handler) {\n      if (window.comm_manager || ((window.Jupyter !== undefined) && (Jupyter.notebook.kernel != null))) {\n        var comm_manager = window.comm_manager || Jupyter.notebook.kernel.comm_manager;\n        comm_manager.register_target(comm_id, function(comm) {\n          comm.on_msg(msg_handler);\n        });\n      } else if ((plot_id in window.PyViz.kernels) && (window.PyViz.kernels[plot_id])) {\n        window.PyViz.kernels[plot_id].registerCommTarget(comm_id, function(comm) {\n          comm.onMsg = msg_handler;\n        });\n      } else if (typeof google != 'undefined' && google.colab.kernel != null) {\n        google.colab.kernel.comms.registerTarget(comm_id, (comm) => {\n          var messages = comm.messages[Symbol.asyncIterator]();\n          function processIteratorResult(result) {\n            var message = result.value;\n            console.log(message)\n            var content = {data: message.data, comm_id};\n            var buffers = []\n            for (var buffer of message.buffers || []) {\n              buffers.push(new DataView(buffer))\n            }\n            var metadata = message.metadata || {};\n            var msg = {content, buffers, metadata}\n            msg_handler(msg);\n            return messages.next().then(processIteratorResult);\n          }\n          return messages.next().then(processIteratorResult);\n        })\n      }\n    }\n\n    JupyterCommManager.prototype.get_client_comm = function(plot_id, comm_id, msg_handler) {\n      if (comm_id in window.PyViz.comms) {\n        return window.PyViz.comms[comm_id];\n      } else if (window.comm_manager || ((window.Jupyter !== undefined) && (Jupyter.notebook.kernel != null))) {\n        var comm_manager = window.comm_manager || Jupyter.notebook.kernel.comm_manager;\n        var comm = comm_manager.new_comm(comm_id, {}, {}, {}, comm_id);\n        if (msg_handler) {\n          comm.on_msg(msg_handler);\n        }\n      } else if ((plot_id in window.PyViz.kernels) && (window.PyViz.kernels[plot_id])) {\n        var comm = window.PyViz.kernels[plot_id].connectToComm(comm_id);\n        comm.open();\n        if (msg_handler) {\n          comm.onMsg = msg_handler;\n        }\n      } else if (typeof google != 'undefined' && google.colab.kernel != null) {\n        var comm_promise = google.colab.kernel.comms.open(comm_id)\n        comm_promise.then((comm) => {\n          window.PyViz.comms[comm_id] = comm;\n          if (msg_handler) {\n            var messages = comm.messages[Symbol.asyncIterator]();\n            function processIteratorResult(result) {\n              var message = result.value;\n              var content = {data: message.data};\n              var metadata = message.metadata || {comm_id};\n              var msg = {content, metadata}\n              msg_handler(msg);\n              return messages.next().then(processIteratorResult);\n            }\n            return messages.next().then(processIteratorResult);\n          }\n        }) \n        var sendClosure = (data, metadata, buffers, disposeOnDone) => {\n          return comm_promise.then((comm) => {\n            comm.send(data, metadata, buffers, disposeOnDone);\n          });\n        };\n        var comm = {\n          send: sendClosure\n        };\n      }\n      window.PyViz.comms[comm_id] = comm;\n      return comm;\n    }\n    window.PyViz.comm_manager = new JupyterCommManager();\n    \n\n\nvar JS_MIME_TYPE = 'application/javascript';\nvar HTML_MIME_TYPE = 'text/html';\nvar EXEC_MIME_TYPE = 'application/vnd.holoviews_exec.v0+json';\nvar CLASS_NAME = 'output';\n\n/**\n * Render data to the DOM node\n */\nfunction render(props, node) {\n  var div = document.createElement(\"div\");\n  var script = document.createElement(\"script\");\n  node.appendChild(div);\n  node.appendChild(script);\n}\n\n/**\n * Handle when a new output is added\n */\nfunction handle_add_output(event, handle) {\n  var output_area = handle.output_area;\n  var output = handle.output;\n  if ((output.data == undefined) || (!output.data.hasOwnProperty(EXEC_MIME_TYPE))) {\n    return\n  }\n  var id = output.metadata[EXEC_MIME_TYPE][\"id\"];\n  var toinsert = output_area.element.find(\".\" + CLASS_NAME.split(' ')[0]);\n  if (id !== undefined) {\n    var nchildren = toinsert.length;\n    var html_node = toinsert[nchildren-1].children[0];\n    html_node.innerHTML = output.data[HTML_MIME_TYPE];\n    var scripts = [];\n    var nodelist = html_node.querySelectorAll(\"script\");\n    for (var i in nodelist) {\n      if (nodelist.hasOwnProperty(i)) {\n        scripts.push(nodelist[i])\n      }\n    }\n\n    scripts.forEach( function (oldScript) {\n      var newScript = document.createElement(\"script\");\n      var attrs = [];\n      var nodemap = oldScript.attributes;\n      for (var j in nodemap) {\n        if (nodemap.hasOwnProperty(j)) {\n          attrs.push(nodemap[j])\n        }\n      }\n      attrs.forEach(function(attr) { newScript.setAttribute(attr.name, attr.value) });\n      newScript.appendChild(document.createTextNode(oldScript.innerHTML));\n      oldScript.parentNode.replaceChild(newScript, oldScript);\n    });\n    if (JS_MIME_TYPE in output.data) {\n      toinsert[nchildren-1].children[1].textContent = output.data[JS_MIME_TYPE];\n    }\n    output_area._hv_plot_id = id;\n    if ((window.Bokeh !== undefined) && (id in Bokeh.index)) {\n      window.PyViz.plot_index[id] = Bokeh.index[id];\n    } else {\n      window.PyViz.plot_index[id] = null;\n    }\n  } else if (output.metadata[EXEC_MIME_TYPE][\"server_id\"] !== undefined) {\n    var bk_div = document.createElement(\"div\");\n    bk_div.innerHTML = output.data[HTML_MIME_TYPE];\n    var script_attrs = bk_div.children[0].attributes;\n    for (var i = 0; i < script_attrs.length; i++) {\n      toinsert[toinsert.length - 1].childNodes[1].setAttribute(script_attrs[i].name, script_attrs[i].value);\n    }\n    // store reference to server id on output_area\n    output_area._bokeh_server_id = output.metadata[EXEC_MIME_TYPE][\"server_id\"];\n  }\n}\n\n/**\n * Handle when an output is cleared or removed\n */\nfunction handle_clear_output(event, handle) {\n  var id = handle.cell.output_area._hv_plot_id;\n  var server_id = handle.cell.output_area._bokeh_server_id;\n  if (((id === undefined) || !(id in PyViz.plot_index)) && (server_id !== undefined)) { return; }\n  var comm = window.PyViz.comm_manager.get_client_comm(\"hv-extension-comm\", \"hv-extension-comm\", function () {});\n  if (server_id !== null) {\n    comm.send({event_type: 'server_delete', 'id': server_id});\n    return;\n  } else if (comm !== null) {\n    comm.send({event_type: 'delete', 'id': id});\n  }\n  delete PyViz.plot_index[id];\n  if ((window.Bokeh !== undefined) & (id in window.Bokeh.index)) {\n    var doc = window.Bokeh.index[id].model.document\n    doc.clear();\n    const i = window.Bokeh.documents.indexOf(doc);\n    if (i > -1) {\n      window.Bokeh.documents.splice(i, 1);\n    }\n  }\n}\n\n/**\n * Handle kernel restart event\n */\nfunction handle_kernel_cleanup(event, handle) {\n  delete PyViz.comms[\"hv-extension-comm\"];\n  window.PyViz.plot_index = {}\n}\n\n/**\n * Handle update_display_data messages\n */\nfunction handle_update_output(event, handle) {\n  handle_clear_output(event, {cell: {output_area: handle.output_area}})\n  handle_add_output(event, handle)\n}\n\nfunction register_renderer(events, OutputArea) {\n  function append_mime(data, metadata, element) {\n    // create a DOM node to render to\n    var toinsert = this.create_output_subarea(\n    metadata,\n    CLASS_NAME,\n    EXEC_MIME_TYPE\n    );\n    this.keyboard_manager.register_events(toinsert);\n    // Render to node\n    var props = {data: data, metadata: metadata[EXEC_MIME_TYPE]};\n    render(props, toinsert[0]);\n    element.append(toinsert);\n    return toinsert\n  }\n\n  events.on('output_added.OutputArea', handle_add_output);\n  events.on('output_updated.OutputArea', handle_update_output);\n  events.on('clear_output.CodeCell', handle_clear_output);\n  events.on('delete.Cell', handle_clear_output);\n  events.on('kernel_ready.Kernel', handle_kernel_cleanup);\n\n  OutputArea.prototype.register_mime_type(EXEC_MIME_TYPE, append_mime, {\n    safe: true,\n    index: 0\n  });\n}\n\nif (window.Jupyter !== undefined) {\n  try {\n    var events = require('base/js/events');\n    var OutputArea = require('notebook/js/outputarea').OutputArea;\n    if (OutputArea.prototype.mime_types().indexOf(EXEC_MIME_TYPE) == -1) {\n      register_renderer(events, OutputArea);\n    }\n  } catch(err) {\n  }\n}\n",
      "application/vnd.holoviews_load.v0+json": ""
     },
     "metadata": {},
     "output_type": "display_data"
    },
    {
     "data": {
      "text/html": [
       "<style>.bk-root, .bk-root .bk:before, .bk-root .bk:after {\n",
       "  font-family: var(--jp-ui-font-size1);\n",
       "  font-size: var(--jp-ui-font-size1);\n",
       "  color: var(--jp-ui-font-color1);\n",
       "}\n",
       "</style>"
      ]
     },
     "metadata": {},
     "output_type": "display_data"
    }
   ],
   "source": [
    "from sklearn.neural_network import MLPRegressor\n",
    "import numpy as np\n",
    "# Initial imports\n",
    "import pandas as pd\n",
    "from pathlib import Path\n",
    "from sklearn.datasets import make_blobs, make_moons\n",
    "from sklearn.model_selection import train_test_split\n",
    "from sklearn.preprocessing import StandardScaler\n",
    "from tensorflow.keras.models import Sequential\n",
    "from tensorflow.keras.layers import Dense\n",
    "import hvplot.pandas\n",
    "import holoviews as hv\n",
    "\n",
    "%matplotlib inline"
   ]
  },
  {
   "cell_type": "markdown",
   "metadata": {},
   "source": [
    "read the GMA data with the areas and avg's for each\n",
    "data contains; Actual sales price from the prio year and the pct change, the transactions from the prior year and the pct change, etc.\n"
   ]
  },
  {
   "cell_type": "code",
   "execution_count": 2,
   "metadata": {},
   "outputs": [
    {
     "data": {
      "text/html": [
       "<div>\n",
       "<style scoped>\n",
       "    .dataframe tbody tr th:only-of-type {\n",
       "        vertical-align: middle;\n",
       "    }\n",
       "\n",
       "    .dataframe tbody tr th {\n",
       "        vertical-align: top;\n",
       "    }\n",
       "\n",
       "    .dataframe thead th {\n",
       "        text-align: right;\n",
       "    }\n",
       "</style>\n",
       "<table border=\"1\" class=\"dataframe\">\n",
       "  <thead>\n",
       "    <tr style=\"text-align: right;\">\n",
       "      <th></th>\n",
       "      <th>Geo Market Area</th>\n",
       "      <th>ASP 12/2021 - 12/2022</th>\n",
       "      <th>ASP 12/2022 - 12/2023</th>\n",
       "      <th>% Change</th>\n",
       "      <th>Transactions 12/2021 - 12/2022</th>\n",
       "      <th>Transactions 12/2022 - 12/2023</th>\n",
       "      <th>% Change.1</th>\n",
       "      <th>MOI 11/2022</th>\n",
       "      <th>MOI 11/2023</th>\n",
       "      <th>% Change.2</th>\n",
       "      <th>Avg DOM 12/2021 - 12/2022</th>\n",
       "      <th>Avg DOM 12/2022 - 12/2023</th>\n",
       "      <th>% Change.3</th>\n",
       "    </tr>\n",
       "  </thead>\n",
       "  <tbody>\n",
       "    <tr>\n",
       "      <th>0</th>\n",
       "      <td>1960/Cypress</td>\n",
       "      <td>$305,022</td>\n",
       "      <td>$319,320</td>\n",
       "      <td>4.70%</td>\n",
       "      <td>290</td>\n",
       "      <td>205.0</td>\n",
       "      <td>-29.30%</td>\n",
       "      <td>1.5</td>\n",
       "      <td>2.6</td>\n",
       "      <td>72.10%</td>\n",
       "      <td>15.0</td>\n",
       "      <td>35.7</td>\n",
       "      <td>138.00%</td>\n",
       "    </tr>\n",
       "    <tr>\n",
       "      <th>1</th>\n",
       "      <td>1960/Cypress Creek North</td>\n",
       "      <td>$321,283</td>\n",
       "      <td>$331,624</td>\n",
       "      <td>3.20%</td>\n",
       "      <td>411</td>\n",
       "      <td>245.0</td>\n",
       "      <td>-40.40%</td>\n",
       "      <td>2.2</td>\n",
       "      <td>4.6</td>\n",
       "      <td>107.50%</td>\n",
       "      <td>27.6</td>\n",
       "      <td>39.2</td>\n",
       "      <td>42.00%</td>\n",
       "    </tr>\n",
       "    <tr>\n",
       "      <th>2</th>\n",
       "      <td>1960/Cypress Creek South</td>\n",
       "      <td>$265,879</td>\n",
       "      <td>$258,609</td>\n",
       "      <td>-2.70%</td>\n",
       "      <td>786</td>\n",
       "      <td>613.0</td>\n",
       "      <td>-22.00%</td>\n",
       "      <td>2.2</td>\n",
       "      <td>2.9</td>\n",
       "      <td>28.20%</td>\n",
       "      <td>23.3</td>\n",
       "      <td>40.2</td>\n",
       "      <td>72.50%</td>\n",
       "    </tr>\n",
       "    <tr>\n",
       "      <th>3</th>\n",
       "      <td>Aldine Area</td>\n",
       "      <td>$237,692</td>\n",
       "      <td>$237,042</td>\n",
       "      <td>-0.30%</td>\n",
       "      <td>880</td>\n",
       "      <td>755.0</td>\n",
       "      <td>-14.20%</td>\n",
       "      <td>2.5</td>\n",
       "      <td>2.9</td>\n",
       "      <td>14.60%</td>\n",
       "      <td>23.2</td>\n",
       "      <td>38.1</td>\n",
       "      <td>64.20%</td>\n",
       "    </tr>\n",
       "    <tr>\n",
       "      <th>4</th>\n",
       "      <td>Alief</td>\n",
       "      <td>$260,950</td>\n",
       "      <td>$262,756</td>\n",
       "      <td>0.70%</td>\n",
       "      <td>523</td>\n",
       "      <td>443.0</td>\n",
       "      <td>-15.30%</td>\n",
       "      <td>2.5</td>\n",
       "      <td>3.2</td>\n",
       "      <td>25.50%</td>\n",
       "      <td>21.8</td>\n",
       "      <td>31.6</td>\n",
       "      <td>45.00%</td>\n",
       "    </tr>\n",
       "  </tbody>\n",
       "</table>\n",
       "</div>"
      ],
      "text/plain": [
       "            Geo Market Area ASP 12/2021 - 12/2022 ASP 12/2022 - 12/2023  \\\n",
       "0              1960/Cypress             $305,022              $319,320    \n",
       "1  1960/Cypress Creek North             $321,283              $331,624    \n",
       "2  1960/Cypress Creek South             $265,879              $258,609    \n",
       "3               Aldine Area             $237,692              $237,042    \n",
       "4                     Alief             $260,950              $262,756    \n",
       "\n",
       "  % Change  Transactions 12/2021 - 12/2022  Transactions 12/2022 - 12/2023  \\\n",
       "0    4.70%                             290                           205.0   \n",
       "1    3.20%                             411                           245.0   \n",
       "2   -2.70%                             786                           613.0   \n",
       "3   -0.30%                             880                           755.0   \n",
       "4    0.70%                             523                           443.0   \n",
       "\n",
       "  % Change.1 MOI 11/2022 MOI 11/2023 % Change.2  Avg DOM 12/2021 - 12/2022  \\\n",
       "0    -29.30%         1.5         2.6     72.10%                       15.0   \n",
       "1    -40.40%         2.2         4.6    107.50%                       27.6   \n",
       "2    -22.00%         2.2         2.9     28.20%                       23.3   \n",
       "3    -14.20%         2.5         2.9     14.60%                       23.2   \n",
       "4    -15.30%         2.5         3.2     25.50%                       21.8   \n",
       "\n",
       "   Avg DOM 12/2022 - 12/2023 % Change.3  \n",
       "0                       35.7    138.00%  \n",
       "1                       39.2     42.00%  \n",
       "2                       40.2     72.50%  \n",
       "3                       38.1     64.20%  \n",
       "4                       31.6     45.00%  "
      ]
     },
     "execution_count": 2,
     "metadata": {},
     "output_type": "execute_result"
    }
   ],
   "source": [
    "\n",
    "\n",
    "# Attempt to load the CSV file using a different encoding\n",
    "data_csv = pd.read_csv(Path(\"./GMA_data.csv\"))\n",
    "\n",
    "data_csv.head()\n",
    "\n"
   ]
  },
  {
   "cell_type": "code",
   "execution_count": 3,
   "metadata": {},
   "outputs": [
    {
     "data": {
      "text/plain": [
       "Geo Market Area                    object\n",
       "ASP 12/2021 - 12/2022              object\n",
       "ASP 12/2022 - 12/2023              object\n",
       "% Change                           object\n",
       "Transactions 12/2021 - 12/2022      int64\n",
       "Transactions 12/2022 - 12/2023    float64\n",
       "% Change.1                         object\n",
       "MOI 11/2022                        object\n",
       "MOI 11/2023                        object\n",
       "% Change.2                         object\n",
       "Avg DOM 12/2021 - 12/2022         float64\n",
       "Avg DOM 12/2022 - 12/2023         float64\n",
       "% Change.3                         object\n",
       "dtype: object"
      ]
     },
     "execution_count": 3,
     "metadata": {},
     "output_type": "execute_result"
    }
   ],
   "source": [
    "data_csv.dtypes\n"
   ]
  },
  {
   "cell_type": "markdown",
   "metadata": {},
   "source": [
    "Obtain and read the (general) houston data and retrive head with name of data \n",
    "dataset contains ; dollar volume, average price, and median price."
   ]
  },
  {
   "cell_type": "code",
   "execution_count": 4,
   "metadata": {},
   "outputs": [
    {
     "data": {
      "text/html": [
       "<div>\n",
       "<style scoped>\n",
       "    .dataframe tbody tr th:only-of-type {\n",
       "        vertical-align: middle;\n",
       "    }\n",
       "\n",
       "    .dataframe tbody tr th {\n",
       "        vertical-align: top;\n",
       "    }\n",
       "\n",
       "    .dataframe thead th {\n",
       "        text-align: right;\n",
       "    }\n",
       "</style>\n",
       "<table border=\"1\" class=\"dataframe\">\n",
       "  <thead>\n",
       "    <tr style=\"text-align: right;\">\n",
       "      <th></th>\n",
       "      <th>Unnamed: 0</th>\n",
       "      <th>Closed</th>\n",
       "      <th>% Change</th>\n",
       "      <th>Unnamed: 3</th>\n",
       "      <th>% Change.1</th>\n",
       "      <th>Average</th>\n",
       "      <th>% Change.2</th>\n",
       "      <th>Median</th>\n",
       "      <th>% Change.3</th>\n",
       "    </tr>\n",
       "  </thead>\n",
       "  <tbody>\n",
       "    <tr>\n",
       "      <th>0</th>\n",
       "      <td>Property Type</td>\n",
       "      <td>Listings*</td>\n",
       "      <td>Year Ago</td>\n",
       "      <td>Dollar Volume</td>\n",
       "      <td>Year Ago</td>\n",
       "      <td>Price</td>\n",
       "      <td>Year Ago</td>\n",
       "      <td>Price</td>\n",
       "      <td>Year Ago</td>\n",
       "    </tr>\n",
       "    <tr>\n",
       "      <th>1</th>\n",
       "      <td>All (New and Existing)</td>\n",
       "      <td>NaN</td>\n",
       "      <td>NaN</td>\n",
       "      <td>NaN</td>\n",
       "      <td>NaN</td>\n",
       "      <td>NaN</td>\n",
       "      <td>NaN</td>\n",
       "      <td>NaN</td>\n",
       "      <td>NaN</td>\n",
       "    </tr>\n",
       "    <tr>\n",
       "      <th>2</th>\n",
       "      <td>Single Family</td>\n",
       "      <td>7,983</td>\n",
       "      <td>-4%</td>\n",
       "      <td>$3,353,852,000</td>\n",
       "      <td>-1%</td>\n",
       "      <td>$420,124</td>\n",
       "      <td>3%</td>\n",
       "      <td>$339,000</td>\n",
       "      <td>0%</td>\n",
       "    </tr>\n",
       "    <tr>\n",
       "      <th>3</th>\n",
       "      <td>Townhouse/Condominium</td>\n",
       "      <td>556</td>\n",
       "      <td>-19%</td>\n",
       "      <td>$145,065,478</td>\n",
       "      <td>-17%</td>\n",
       "      <td>$260,909</td>\n",
       "      <td>3%</td>\n",
       "      <td>$225,000</td>\n",
       "      <td>3%</td>\n",
       "    </tr>\n",
       "    <tr>\n",
       "      <th>4</th>\n",
       "      <td>Multifamily</td>\n",
       "      <td>65</td>\n",
       "      <td>-22%</td>\n",
       "      <td>$31,514,889</td>\n",
       "      <td>-27%</td>\n",
       "      <td>$484,844</td>\n",
       "      <td>-6%</td>\n",
       "      <td>$390,000</td>\n",
       "      <td>-5%</td>\n",
       "    </tr>\n",
       "  </tbody>\n",
       "</table>\n",
       "</div>"
      ],
      "text/plain": [
       "               Unnamed: 0     Closed  % Change       Unnamed: 3 % Change.1  \\\n",
       "0           Property Type  Listings*  Year Ago    Dollar Volume   Year Ago   \n",
       "1  All (New and Existing)        NaN       NaN              NaN        NaN   \n",
       "2           Single Family      7,983       -4%  $3,353,852,000         -1%   \n",
       "3   Townhouse/Condominium        556      -19%    $145,065,478        -17%   \n",
       "4             Multifamily         65      -22%     $31,514,889        -27%   \n",
       "\n",
       "     Average % Change.2     Median % Change.3  \n",
       "0      Price   Year Ago      Price   Year Ago  \n",
       "1        NaN        NaN        NaN        NaN  \n",
       "2  $420,124          3%  $339,000          0%  \n",
       "3  $260,909          3%  $225,000          3%  \n",
       "4  $484,844         -6%  $390,000         -5%  "
      ]
     },
     "execution_count": 4,
     "metadata": {},
     "output_type": "execute_result"
    }
   ],
   "source": [
    "H_data_csv = pd.read_csv(Path(\"./Houston_data.csv\"))\n",
    "\n",
    "H_data_csv.head()   \n",
    "\n",
    "                "
   ]
  },
  {
   "cell_type": "code",
   "execution_count": 5,
   "metadata": {},
   "outputs": [
    {
     "data": {
      "text/plain": [
       "Unnamed: 0    object\n",
       "Closed        object\n",
       "% Change      object\n",
       "Unnamed: 3    object\n",
       "% Change.1    object\n",
       "Average       object\n",
       "% Change.2    object\n",
       "Median        object\n",
       "% Change.3    object\n",
       "dtype: object"
      ]
     },
     "execution_count": 5,
     "metadata": {},
     "output_type": "execute_result"
    }
   ],
   "source": [
    "H_data_csv.dtypes"
   ]
  },
  {
   "cell_type": "markdown",
   "metadata": {},
   "source": [
    "give the user to grab a name of a area.\n",
    "slice into the dict \"Geograpgocal area\""
   ]
  },
  {
   "cell_type": "markdown",
   "metadata": {},
   "source": []
  },
  {
   "cell_type": "code",
   "execution_count": 6,
   "metadata": {},
   "outputs": [],
   "source": [
    "# Prompt the user to enter an area name\n",
    "#user_input_area = input(\"Enter the name of the area: \")\n",
    "\n",
    "# Filter the DataFrame for rows where the 'Geo Market Area' matches the user input\n",
    "#data_csv = data_csv[data_csv['Geo Market Area'] == user_input_area]\n",
    "\n",
    "# Display the filtered data\n",
    "#print(data_csv)\n"
   ]
  },
  {
   "cell_type": "markdown",
   "metadata": {},
   "source": [
    "grab the days on market data and make a dataframe for the average DOM"
   ]
  },
  {
   "cell_type": "code",
   "execution_count": 14,
   "metadata": {},
   "outputs": [
    {
     "data": {
      "text/html": [
       "<div>\n",
       "<style scoped>\n",
       "    .dataframe tbody tr th:only-of-type {\n",
       "        vertical-align: middle;\n",
       "    }\n",
       "\n",
       "    .dataframe tbody tr th {\n",
       "        vertical-align: top;\n",
       "    }\n",
       "\n",
       "    .dataframe thead th {\n",
       "        text-align: right;\n",
       "    }\n",
       "</style>\n",
       "<table border=\"1\" class=\"dataframe\">\n",
       "  <thead>\n",
       "    <tr style=\"text-align: right;\">\n",
       "      <th></th>\n",
       "      <th>Unnamed: 0</th>\n",
       "      <th>Price/</th>\n",
       "      <th>% Change</th>\n",
       "      <th>Unnamed: 3</th>\n",
       "      <th>% Change.1</th>\n",
       "      <th>Pending</th>\n",
       "      <th>% Change.2</th>\n",
       "      <th>New</th>\n",
       "      <th>% Change.3</th>\n",
       "      <th>Active</th>\n",
       "      <th>%Change</th>\n",
       "    </tr>\n",
       "  </thead>\n",
       "  <tbody>\n",
       "    <tr>\n",
       "      <th>0</th>\n",
       "      <td>Property Type</td>\n",
       "      <td>Sqft*</td>\n",
       "      <td>Year Ago</td>\n",
       "      <td>DOM</td>\n",
       "      <td>Year Ago</td>\n",
       "      <td>Listings</td>\n",
       "      <td>Year Ago</td>\n",
       "      <td>Listings</td>\n",
       "      <td>Year Ago</td>\n",
       "      <td>Listings</td>\n",
       "      <td>Year Ago</td>\n",
       "    </tr>\n",
       "    <tr>\n",
       "      <th>1</th>\n",
       "      <td>All (New and Existing)</td>\n",
       "      <td>NaN</td>\n",
       "      <td>NaN</td>\n",
       "      <td>NaN</td>\n",
       "      <td>NaN</td>\n",
       "      <td>NaN</td>\n",
       "      <td>NaN</td>\n",
       "      <td>NaN</td>\n",
       "      <td>NaN</td>\n",
       "      <td>NaN</td>\n",
       "      <td>NaN</td>\n",
       "    </tr>\n",
       "    <tr>\n",
       "      <th>2</th>\n",
       "      <td>Single Family</td>\n",
       "      <td>$175</td>\n",
       "      <td>0%</td>\n",
       "      <td>51</td>\n",
       "      <td>55%</td>\n",
       "      <td>62,184</td>\n",
       "      <td>-9%</td>\n",
       "      <td>93,700</td>\n",
       "      <td>-4%</td>\n",
       "      <td>20,614</td>\n",
       "      <td>41%</td>\n",
       "    </tr>\n",
       "    <tr>\n",
       "      <th>3</th>\n",
       "      <td>Townhouse/Condominium</td>\n",
       "      <td>$167</td>\n",
       "      <td>0%</td>\n",
       "      <td>42</td>\n",
       "      <td>20%</td>\n",
       "      <td>4,559</td>\n",
       "      <td>-21%</td>\n",
       "      <td>7,161</td>\n",
       "      <td>-12%</td>\n",
       "      <td>1,396</td>\n",
       "      <td>23%</td>\n",
       "    </tr>\n",
       "    <tr>\n",
       "      <th>4</th>\n",
       "      <td>Multifamily</td>\n",
       "      <td>$171</td>\n",
       "      <td>-1%</td>\n",
       "      <td>56</td>\n",
       "      <td>8%</td>\n",
       "      <td>541</td>\n",
       "      <td>-11%</td>\n",
       "      <td>1,288</td>\n",
       "      <td>5%</td>\n",
       "      <td>407</td>\n",
       "      <td>44%</td>\n",
       "    </tr>\n",
       "  </tbody>\n",
       "</table>\n",
       "</div>"
      ],
      "text/plain": [
       "               Unnamed: 0 Price/  % Change Unnamed: 3 % Change.1   Pending  \\\n",
       "0           Property Type  Sqft*  Year Ago        DOM   Year Ago  Listings   \n",
       "1  All (New and Existing)    NaN       NaN        NaN        NaN       NaN   \n",
       "2           Single Family  $175         0%         51        55%    62,184   \n",
       "3   Townhouse/Condominium  $167         0%         42        20%     4,559   \n",
       "4             Multifamily  $171        -1%         56         8%       541   \n",
       "\n",
       "  % Change.2       New % Change.3    Active   %Change  \n",
       "0   Year Ago  Listings   Year Ago  Listings  Year Ago  \n",
       "1        NaN       NaN        NaN       NaN       NaN  \n",
       "2        -9%    93,700        -4%    20,614       41%  \n",
       "3       -21%     7,161       -12%     1,396       23%  \n",
       "4       -11%     1,288         5%       407       44%  "
      ]
     },
     "execution_count": 14,
     "metadata": {},
     "output_type": "execute_result"
    }
   ],
   "source": [
    "Dom_data = pd.read_csv(Path(\"./Days_on_market.csv\"))\n",
    "Dom_data.head()"
   ]
  },
  {
   "cell_type": "code",
   "execution_count": null,
   "metadata": {},
   "outputs": [],
   "source": [
    "market_days = "
   ]
  },
  {
   "cell_type": "markdown",
   "metadata": {},
   "source": [
    "(optional) step: grab and scale data and concat the data values to make a new datframe.\n"
   ]
  },
  {
   "cell_type": "code",
   "execution_count": 15,
   "metadata": {},
   "outputs": [
    {
     "data": {
      "text/plain": [
       "Unnamed: 0    object\n",
       "Price/        object\n",
       "% Change      object\n",
       "Unnamed: 3    object\n",
       "% Change.1    object\n",
       "Pending       object\n",
       "% Change.2    object\n",
       "New           object\n",
       "% Change.3    object\n",
       "Active        object\n",
       "%Change       object\n",
       "dtype: object"
      ]
     },
     "execution_count": 15,
     "metadata": {},
     "output_type": "execute_result"
    }
   ],
   "source": [
    "Dom_data.dtypes"
   ]
  },
  {
   "cell_type": "markdown",
   "metadata": {},
   "source": [
    "Grab the Historic data of August: along with the year and year befores data, number of listings, avg/median pricig, and (optional:DOM)\n",
    "concat the avg and medean pct to the new data frame dataframe, obtain the dtypes\n"
   ]
  },
  {
   "cell_type": "code",
   "execution_count": 16,
   "metadata": {},
   "outputs": [
    {
     "data": {
      "text/html": [
       "<div>\n",
       "<style scoped>\n",
       "    .dataframe tbody tr th:only-of-type {\n",
       "        vertical-align: middle;\n",
       "    }\n",
       "\n",
       "    .dataframe tbody tr th {\n",
       "        vertical-align: top;\n",
       "    }\n",
       "\n",
       "    .dataframe thead th {\n",
       "        text-align: right;\n",
       "    }\n",
       "</style>\n",
       "<table border=\"1\" class=\"dataframe\">\n",
       "  <thead>\n",
       "    <tr style=\"text-align: right;\">\n",
       "      <th></th>\n",
       "      <th>Unnamed: 0</th>\n",
       "      <th>Unnamed: 1</th>\n",
       "      <th>Closed</th>\n",
       "      <th>Average</th>\n",
       "      <th>Median</th>\n",
       "      <th>Price/</th>\n",
       "      <th>New</th>\n",
       "      <th>Active</th>\n",
       "      <th>Pending</th>\n",
       "      <th>Unnamed: 9</th>\n",
       "      <th>Close to</th>\n",
       "    </tr>\n",
       "  </thead>\n",
       "  <tbody>\n",
       "    <tr>\n",
       "      <th>0</th>\n",
       "      <td>Year</td>\n",
       "      <td>Month</td>\n",
       "      <td>Listings*</td>\n",
       "      <td>Price</td>\n",
       "      <td>Price</td>\n",
       "      <td>Sqft</td>\n",
       "      <td>Listings</td>\n",
       "      <td>Listings</td>\n",
       "      <td>Listings</td>\n",
       "      <td>DOM</td>\n",
       "      <td>Orig. List Price</td>\n",
       "    </tr>\n",
       "    <tr>\n",
       "      <th>1</th>\n",
       "      <td>2021</td>\n",
       "      <td>Jan</td>\n",
       "      <td>4,815</td>\n",
       "      <td>$321,238</td>\n",
       "      <td>$255,000</td>\n",
       "      <td>$132</td>\n",
       "      <td>7,202</td>\n",
       "      <td>9,088</td>\n",
       "      <td>6,097</td>\n",
       "      <td>43</td>\n",
       "      <td>96.70%</td>\n",
       "    </tr>\n",
       "    <tr>\n",
       "      <th>2</th>\n",
       "      <td>2021</td>\n",
       "      <td>Feb</td>\n",
       "      <td>4,671</td>\n",
       "      <td>$348,928</td>\n",
       "      <td>$270,000</td>\n",
       "      <td>$139</td>\n",
       "      <td>6,148</td>\n",
       "      <td>7,781</td>\n",
       "      <td>5,721</td>\n",
       "      <td>42</td>\n",
       "      <td>97.20%</td>\n",
       "    </tr>\n",
       "    <tr>\n",
       "      <th>3</th>\n",
       "      <td>2021</td>\n",
       "      <td>Mar</td>\n",
       "      <td>7,327</td>\n",
       "      <td>$363,397</td>\n",
       "      <td>$285,000</td>\n",
       "      <td>$143</td>\n",
       "      <td>8,831</td>\n",
       "      <td>7,184</td>\n",
       "      <td>7,889</td>\n",
       "      <td>39</td>\n",
       "      <td>97.80%</td>\n",
       "    </tr>\n",
       "    <tr>\n",
       "      <th>4</th>\n",
       "      <td>2021</td>\n",
       "      <td>Apr</td>\n",
       "      <td>7,459</td>\n",
       "      <td>$372,590</td>\n",
       "      <td>$290,500</td>\n",
       "      <td>$148</td>\n",
       "      <td>10,164</td>\n",
       "      <td>7,725</td>\n",
       "      <td>8,195</td>\n",
       "      <td>33</td>\n",
       "      <td>98.80%</td>\n",
       "    </tr>\n",
       "  </tbody>\n",
       "</table>\n",
       "</div>"
      ],
      "text/plain": [
       "  Unnamed: 0 Unnamed: 1     Closed    Average     Median Price/       New  \\\n",
       "0       Year      Month  Listings*      Price      Price   Sqft  Listings   \n",
       "1       2021        Jan      4,815  $321,238   $255,000   $132      7,202   \n",
       "2       2021        Feb      4,671  $348,928   $270,000   $139      6,148   \n",
       "3       2021        Mar      7,327  $363,397   $285,000   $143      8,831   \n",
       "4       2021        Apr      7,459  $372,590   $290,500   $148     10,164   \n",
       "\n",
       "     Active   Pending Unnamed: 9          Close to  \n",
       "0  Listings  Listings        DOM  Orig. List Price  \n",
       "1     9,088     6,097         43            96.70%  \n",
       "2     7,781     5,721         42            97.20%  \n",
       "3     7,184     7,889         39            97.80%  \n",
       "4     7,725     8,195         33            98.80%  "
      ]
     },
     "execution_count": 16,
     "metadata": {},
     "output_type": "execute_result"
    }
   ],
   "source": [
    "Historic_pricing = pd.read_csv(Path(\"./Historic_pricing.csv\"))\n",
    "\n",
    "Historic_pricing.head()"
   ]
  },
  {
   "cell_type": "code",
   "execution_count": 17,
   "metadata": {},
   "outputs": [
    {
     "data": {
      "text/plain": [
       "Unnamed: 0    object\n",
       "Unnamed: 1    object\n",
       "Closed        object\n",
       "Average       object\n",
       "Median        object\n",
       "Price/        object\n",
       "New           object\n",
       "Active        object\n",
       "Pending       object\n",
       "Unnamed: 9    object\n",
       "Close to      object\n",
       "dtype: object"
      ]
     },
     "execution_count": 17,
     "metadata": {},
     "output_type": "execute_result"
    }
   ],
   "source": [
    "Historic_pricing.dtypes"
   ]
  },
  {
   "cell_type": "code",
   "execution_count": 21,
   "metadata": {},
   "outputs": [
    {
     "data": {
      "text/plain": [
       "0        Price\n",
       "1    $321,238 \n",
       "2    $348,928 \n",
       "3    $363,397 \n",
       "4    $372,590 \n",
       "Name: Average, dtype: object"
      ]
     },
     "execution_count": 21,
     "metadata": {},
     "output_type": "execute_result"
    }
   ],
   "source": [
    "Hist_df = Historic_pricing['Average']\n",
    "Hist_df.head()"
   ]
  }
 ],
 "metadata": {
  "kernelspec": {
   "display_name": "mlenv",
   "language": "python",
   "name": "python3"
  },
  "language_info": {
   "codemirror_mode": {
    "name": "ipython",
    "version": 3
   },
   "file_extension": ".py",
   "mimetype": "text/x-python",
   "name": "python",
   "nbconvert_exporter": "python",
   "pygments_lexer": "ipython3",
   "version": "3.7.16"
  }
 },
 "nbformat": 4,
 "nbformat_minor": 2
}
